{
 "cells": [
  {
   "cell_type": "code",
   "execution_count": 1,
   "metadata": {},
   "outputs": [],
   "source": [
    "import findspark\n",
    "findspark.init()"
   ]
  },
  {
   "cell_type": "code",
   "execution_count": 2,
   "metadata": {},
   "outputs": [],
   "source": [
    "from IPython.display import display, HTML\n",
    "from pyspark.sql import SparkSession\n",
    "from pyspark import StorageLevel\n",
    "import geopandas as gpd\n",
    "import pandas as pd\n",
    "from pyspark.sql.types import StructType\n",
    "from pyspark.sql.types import StructField\n",
    "from pyspark.sql.types import StringType\n",
    "from pyspark.sql.types import LongType\n",
    "from pyspark.sql.types import IntegerType\n",
    "from pyspark.sql.functions import regexp_replace\n",
    "from sedona.register import SedonaRegistrator\n",
    "from sedona.utils import SedonaKryoRegistrator, KryoSerializer\n",
    "from pyspark.sql.functions import col, split, expr\n",
    "from pyspark.sql.functions import udf, lit\n",
    "import findspark\n",
    "from sedona.utils import SedonaKryoRegistrator, KryoSerializer\n",
    "from pyspark.sql.functions import col, split, expr\n",
    "from pyspark.sql.functions import udf, lit\n"
   ]
  },
  {
   "cell_type": "markdown",
   "metadata": {},
   "source": [
    "# Create Spark Session for application"
   ]
  },
  {
   "cell_type": "code",
   "execution_count": 3,
   "metadata": {},
   "outputs": [],
   "source": [
    "spark = SparkSession.\\\n",
    "    builder.\\\n",
    "    master(\"local[*]\").\\\n",
    "    appName(\"Demo-app\").\\\n",
    "    config(\"spark.serializer\", KryoSerializer.getName).\\\n",
    "    config(\"spark.kryo.registrator\", SedonaKryoRegistrator.getName) .\\\n",
    "    config(\"spark.executor.cores\", 3) .\\\n",
    "    config(\"spark.driver.memory\", \"4G\") .\\\n",
    "    config(\"spark.kryoserializer.buffer.max.value\", \"4096\") .\\\n",
    "    config(\"spark.sql.crossJoin.enabled\", \"true\") .\\\n",
    "    getOrCreate()\n",
    "\n",
    "SedonaRegistrator.registerAll(spark)\n",
    "sc = spark.sparkContext\n"
   ]
  },
  {
   "cell_type": "markdown",
   "metadata": {},
   "source": [
    "# Geotiff Loader \n",
    "\n",
    "1. Loader takes as input a path to directory which contains geotiff files or a parth to particular geotiff file\n",
    "2. Loader will read geotiff image in a struct named image which contains multiple fields as shown in the schema below which can be extracted using spark SQL"
   ]
  },
  {
   "cell_type": "code",
   "execution_count": 4,
   "metadata": {},
   "outputs": [],
   "source": [
    "# Path to directory of geotiff images \n",
    "DATA_DIR = \"./data/raster/\""
   ]
  },
  {
   "cell_type": "code",
   "execution_count": 5,
   "metadata": {
    "scrolled": true
   },
   "outputs": [
    {
     "name": "stdout",
     "output_type": "stream",
     "text": [
      "root\n",
      " |-- image: struct (nullable = true)\n",
      " |    |-- origin: string (nullable = true)\n",
      " |    |-- Geometry: geometry (nullable = true)\n",
      " |    |-- height: integer (nullable = true)\n",
      " |    |-- width: integer (nullable = true)\n",
      " |    |-- nBands: integer (nullable = true)\n",
      " |    |-- data: array (nullable = true)\n",
      " |    |    |-- element: double (containsNull = true)\n",
      "\n"
     ]
    }
   ],
   "source": [
    "df = spark.read.format(\"geotiff\").option(\"dropInvalid\",True).load(DATA_DIR)\n",
    "df.printSchema()"
   ]
  },
  {
   "cell_type": "code",
   "execution_count": 6,
   "metadata": {},
   "outputs": [
    {
     "name": "stdout",
     "output_type": "stream",
     "text": [
      "+--------------------+--------------------+------+-----+--------------------+-----+\n",
      "|              origin|                Geom|height|width|                data|bands|\n",
      "+--------------------+--------------------+------+-----+--------------------+-----+\n",
      "|file:///home/hp/D...|POLYGON ((-58.702...|    32|   32|[1081.0, 1068.0, ...|    4|\n",
      "|file:///home/hp/D...|POLYGON ((-58.286...|    32|   32|[1151.0, 1141.0, ...|    4|\n",
      "+--------------------+--------------------+------+-----+--------------------+-----+\n",
      "\n"
     ]
    }
   ],
   "source": [
    "df = df.selectExpr(\"image.origin as origin\",\"image.Geometry as Geom\", \"image.height as height\", \"image.width as width\", \"image.data as data\", \"image.nBands as bands\")\n",
    "df.show(5)"
   ]
  },
  {
   "cell_type": "markdown",
   "metadata": {},
   "source": [
    "# Extract a particular band from geotiff dataframe using RS_GetBand()\n"
   ]
  },
  {
   "cell_type": "code",
   "execution_count": 7,
   "metadata": {},
   "outputs": [
    {
     "name": "stdout",
     "output_type": "stream",
     "text": [
      "+--------------------+--------------------+--------------------+--------------------+--------------------+\n",
      "|                Geom|               Band1|               Band2|               Band3|               Band4|\n",
      "+--------------------+--------------------+--------------------+--------------------+--------------------+\n",
      "|POLYGON ((-58.702...|[1081.0, 1068.0, ...|[865.0, 1084.0, 1...|[0.0, 0.0, 0.0, 0...|[0.0, 0.0, 0.0, 0...|\n",
      "|POLYGON ((-58.286...|[1151.0, 1141.0, ...|[1197.0, 1163.0, ...|[0.0, 0.0, 0.0, 0...|[0.0, 0.0, 0.0, 0...|\n",
      "+--------------------+--------------------+--------------------+--------------------+--------------------+\n",
      "\n"
     ]
    }
   ],
   "source": [
    "''' RS_GetBand() will fetch a particular band from given data array which is the concatination of all the bands'''\n",
    "\n",
    "df = df.selectExpr(\"Geom\",\"RS_GetBand(data, 1,bands) as Band1\",\"RS_GetBand(data, 2,bands) as Band2\",\"RS_GetBand(data, 3,bands) as Band3\", \"RS_GetBand(data, 4,bands) as Band4\")\n",
    "df.createOrReplaceTempView(\"allbands\")\n",
    "df.show(5)"
   ]
  },
  {
   "cell_type": "markdown",
   "metadata": {},
   "source": [
    "# Map Algebra operations on band values "
   ]
  },
  {
   "cell_type": "code",
   "execution_count": 8,
   "metadata": {},
   "outputs": [
    {
     "name": "stdout",
     "output_type": "stream",
     "text": [
      "+--------------------+\n",
      "|            normDiff|\n",
      "+--------------------+\n",
      "|[-0.11, 0.01, 0.0...|\n",
      "|[0.02, 0.01, -0.0...|\n",
      "+--------------------+\n",
      "\n"
     ]
    }
   ],
   "source": [
    "''' RS_NormalizedDifference can be used to calculate NDVI for a particular geotiff image since it uses same computational formula as ndvi'''\n",
    "\n",
    "NomalizedDifference = df.selectExpr(\"RS_NormalizedDifference(Band1, Band2) as normDiff\")\n",
    "NomalizedDifference.show(5)"
   ]
  },
  {
   "cell_type": "code",
   "execution_count": 9,
   "metadata": {},
   "outputs": [
    {
     "name": "stdout",
     "output_type": "stream",
     "text": [
      "+-------+\n",
      "|   mean|\n",
      "+-------+\n",
      "|1153.85|\n",
      "|1293.77|\n",
      "+-------+\n",
      "\n"
     ]
    }
   ],
   "source": [
    "''' RS_Mean() can used to calculate mean of piel values in a particular spatial band '''\n",
    "meanDF = df.selectExpr(\"RS_Mean(Band1) as mean\")\n",
    "meanDF.show(5)"
   ]
  },
  {
   "cell_type": "code",
   "execution_count": 10,
   "metadata": {},
   "outputs": [
    {
     "name": "stdout",
     "output_type": "stream",
     "text": [
      "+----------------+\n",
      "|            mode|\n",
      "+----------------+\n",
      "| [1011.0, 927.0]|\n",
      "|[1176.0, 1230.0]|\n",
      "+----------------+\n",
      "\n"
     ]
    }
   ],
   "source": [
    "\"\"\" RS_Mode() is used to calculate mode in an array of pixels and returns a array of double with size 1 in case of unique mode\"\"\"\n",
    "modeDF = df.selectExpr(\"RS_Mode(Band1) as mode\")\n",
    "modeDF.show(5)"
   ]
  },
  {
   "cell_type": "code",
   "execution_count": 14,
   "metadata": {},
   "outputs": [
    {
     "name": "stdout",
     "output_type": "stream",
     "text": [
      "+--------------------+\n",
      "|         greaterthan|\n",
      "+--------------------+\n",
      "|[1.0, 1.0, 1.0, 0...|\n",
      "|[1.0, 1.0, 1.0, 1...|\n",
      "+--------------------+\n",
      "\n"
     ]
    }
   ],
   "source": [
    "''' RS_GreaterThan() is used to mask all the values with 1 which are greater than a particular threshold'''\n",
    "greaterthanDF = spark.sql(\"Select RS_GreaterThan(Band1,1000.0) as greaterthan from allbands\")\n",
    "greaterthanDF.show()"
   ]
  },
  {
   "cell_type": "code",
   "execution_count": 15,
   "metadata": {},
   "outputs": [
    {
     "name": "stdout",
     "output_type": "stream",
     "text": [
      "+--------------------+\n",
      "|    greaterthanEqual|\n",
      "+--------------------+\n",
      "|[1.0, 1.0, 1.0, 1...|\n",
      "|[1.0, 1.0, 1.0, 1...|\n",
      "+--------------------+\n",
      "\n"
     ]
    }
   ],
   "source": [
    "''' RS_GreaterThanEqual() is used to mask all the values with 1 which are greater than a particular threshold'''\n",
    "\n",
    "greaterthanEqualDF = spark.sql(\"Select RS_GreaterThanEqual(Band1,360.0) as greaterthanEqual from allbands\")\n",
    "greaterthanEqualDF.show()"
   ]
  },
  {
   "cell_type": "code",
   "execution_count": 16,
   "metadata": {},
   "outputs": [
    {
     "name": "stdout",
     "output_type": "stream",
     "text": [
      "+--------------------+\n",
      "|            lessthan|\n",
      "+--------------------+\n",
      "|[0.0, 0.0, 0.0, 1...|\n",
      "|[0.0, 0.0, 0.0, 0...|\n",
      "+--------------------+\n",
      "\n"
     ]
    }
   ],
   "source": [
    "''' RS_LessThan() is used to mask all the values with 1 which are less than a particular threshold'''\n",
    "lessthanDF = spark.sql(\"Select RS_LessThan(Band1,1000.0) as lessthan from allbands\")\n",
    "lessthanDF.show()"
   ]
  },
  {
   "cell_type": "code",
   "execution_count": 17,
   "metadata": {},
   "outputs": [
    {
     "name": "stdout",
     "output_type": "stream",
     "text": [
      "+--------------------+\n",
      "|       lessthanequal|\n",
      "+--------------------+\n",
      "|[1.0, 1.0, 1.0, 1...|\n",
      "|[1.0, 1.0, 1.0, 1...|\n",
      "+--------------------+\n",
      "\n"
     ]
    }
   ],
   "source": [
    "''' RS_LessThanEqual() is used to mask all the values with 1 which are less than equal to a particular threshold'''\n",
    "lessthanEqualDF = spark.sql(\"Select RS_LessThanEqual(Band1,2890.0) as lessthanequal from allbands\")\n",
    "lessthanEqualDF.show()"
   ]
  },
  {
   "cell_type": "code",
   "execution_count": 18,
   "metadata": {},
   "outputs": [
    {
     "name": "stdout",
     "output_type": "stream",
     "text": [
      "+--------------------+\n",
      "|           sumOfBand|\n",
      "+--------------------+\n",
      "|[1946.0, 2152.0, ...|\n",
      "|[2348.0, 2304.0, ...|\n",
      "+--------------------+\n",
      "\n"
     ]
    }
   ],
   "source": [
    "''' RS_AddBands() can add two spatial bands together'''\n",
    "sumDF = df.selectExpr(\"RS_AddBands(Band1, Band2) as sumOfBand\")\n",
    "sumDF.show(5)"
   ]
  },
  {
   "cell_type": "code",
   "execution_count": 19,
   "metadata": {},
   "outputs": [
    {
     "name": "stdout",
     "output_type": "stream",
     "text": [
      "+--------------------+\n",
      "|          diffOfBand|\n",
      "+--------------------+\n",
      "|[-216.0, 16.0, 11...|\n",
      "|[46.0, 22.0, -96....|\n",
      "+--------------------+\n",
      "\n"
     ]
    }
   ],
   "source": [
    "''' RS_SubtractBands() can subtract two spatial bands together'''\n",
    "subtractDF = df.selectExpr(\"RS_SubtractBands(Band1, Band2) as diffOfBand\")\n",
    "subtractDF.show(5)"
   ]
  },
  {
   "cell_type": "code",
   "execution_count": 20,
   "metadata": {},
   "outputs": [
    {
     "name": "stdout",
     "output_type": "stream",
     "text": [
      "+--------------------+\n",
      "|       productOfBand|\n",
      "+--------------------+\n",
      "|[935065.0, 115771...|\n",
      "|[1377747.0, 13269...|\n",
      "+--------------------+\n",
      "\n"
     ]
    }
   ],
   "source": [
    "''' RS_MultiplyBands() can multiple two bands together'''\n",
    "multiplyDF = df.selectExpr(\"RS_MultiplyBands(Band1, Band2) as productOfBand\")\n",
    "multiplyDF.show(5)"
   ]
  },
  {
   "cell_type": "code",
   "execution_count": 21,
   "metadata": {},
   "outputs": [
    {
     "name": "stdout",
     "output_type": "stream",
     "text": [
      "+--------------------+\n",
      "|      divisionOfBand|\n",
      "+--------------------+\n",
      "|[1.25, 0.99, 0.9,...|\n",
      "|[0.96, 0.98, 1.08...|\n",
      "+--------------------+\n",
      "\n"
     ]
    }
   ],
   "source": [
    "''' RS_DivideBands() can divide two bands together'''\n",
    "divideDF = df.selectExpr(\"RS_DivideBands(Band1, Band2) as divisionOfBand\")\n",
    "divideDF.show(5)"
   ]
  },
  {
   "cell_type": "code",
   "execution_count": 22,
   "metadata": {},
   "outputs": [
    {
     "name": "stdout",
     "output_type": "stream",
     "text": [
      "+--------------------+\n",
      "|              target|\n",
      "+--------------------+\n",
      "|[1730.0, 2168.0, ...|\n",
      "|[2394.0, 2326.0, ...|\n",
      "+--------------------+\n",
      "\n"
     ]
    }
   ],
   "source": [
    "''' RS_MultiplyFactor() will multiply a factor to a spatial band'''\n",
    "mulfacDF = df.selectExpr(\"RS_MultiplyFactor(Band2, 2) as target\")\n",
    "mulfacDF.show(5)"
   ]
  },
  {
   "cell_type": "code",
   "execution_count": 23,
   "metadata": {},
   "outputs": [
    {
     "name": "stdout",
     "output_type": "stream",
     "text": [
      "+--------------------+\n",
      "|                 AND|\n",
      "+--------------------+\n",
      "|[33.0, 1068.0, 10...|\n",
      "|[1069.0, 1025.0, ...|\n",
      "+--------------------+\n",
      "\n"
     ]
    }
   ],
   "source": [
    "''' RS_BitwiseAND() will return AND between two values of Bands'''\n",
    "bitwiseAND = df.selectExpr(\"RS_BitwiseAND(Band1, Band2) as AND\")\n",
    "bitwiseAND.show(5)"
   ]
  },
  {
   "cell_type": "code",
   "execution_count": 24,
   "metadata": {},
   "outputs": [
    {
     "name": "stdout",
     "output_type": "stream",
     "text": [
      "+--------------------+\n",
      "|                  OR|\n",
      "+--------------------+\n",
      "|[1913.0, 1084.0, ...|\n",
      "|[1279.0, 1279.0, ...|\n",
      "+--------------------+\n",
      "\n"
     ]
    }
   ],
   "source": [
    "''' RS_BitwiseOR() will return OR between two values of Bands'''\n",
    "bitwiseOR = df.selectExpr(\"RS_BitwiseOR(Band1, Band2) as OR\")\n",
    "bitwiseOR.show(5)"
   ]
  },
  {
   "cell_type": "code",
   "execution_count": 25,
   "metadata": {},
   "outputs": [
    {
     "name": "stdout",
     "output_type": "stream",
     "text": [
      "+-----+\n",
      "|count|\n",
      "+-----+\n",
      "|  753|\n",
      "| 1017|\n",
      "+-----+\n",
      "\n"
     ]
    }
   ],
   "source": [
    "''' RS_Count() will calculate the total number of occurence of a target value'''\n",
    "countDF = df.selectExpr(\"RS_Count(RS_GreaterThan(Band1,1000.0), 1.0) as count\")\n",
    "countDF.show(5)"
   ]
  },
  {
   "cell_type": "code",
   "execution_count": 26,
   "metadata": {},
   "outputs": [
    {
     "name": "stdout",
     "output_type": "stream",
     "text": [
      "+--------------------+\n",
      "|              modulo|\n",
      "+--------------------+\n",
      "|[10.0, 18.0, 18.0...|\n",
      "|[17.0, 7.0, 2.0, ...|\n",
      "+--------------------+\n",
      "\n"
     ]
    }
   ],
   "source": [
    "''' RS_Modulo() will calculate the modulus of band value with respect to a given number'''\n",
    "moduloDF = df.selectExpr(\"RS_Modulo(Band1, 21.0) as modulo \")\n",
    "moduloDF.show(5)"
   ]
  },
  {
   "cell_type": "code",
   "execution_count": 27,
   "metadata": {},
   "outputs": [
    {
     "name": "stdout",
     "output_type": "stream",
     "text": [
      "+--------------------+\n",
      "|                root|\n",
      "+--------------------+\n",
      "|[32.88, 32.68, 32...|\n",
      "|[33.93, 33.78, 35...|\n",
      "+--------------------+\n",
      "\n"
     ]
    }
   ],
   "source": [
    "''' RS_SquareRoot() will calculate calculate square root of all the band values upto two decimal places'''\n",
    "rootDF = df.selectExpr(\"RS_SquareRoot(Band1) as root\")\n",
    "rootDF.show(5)\n"
   ]
  },
  {
   "cell_type": "code",
   "execution_count": 28,
   "metadata": {},
   "outputs": [
    {
     "name": "stdout",
     "output_type": "stream",
     "text": [
      "+--------------------+\n",
      "|      loggDifference|\n",
      "+--------------------+\n",
      "|[1081.0, 1068.0, ...|\n",
      "|[1151.0, 1141.0, ...|\n",
      "+--------------------+\n",
      "\n"
     ]
    }
   ],
   "source": [
    "''' RS_LogicalDifference() will return value from band1 if value at that particular location is not equal tp band1 else it will return 0'''\n",
    "logDiff = df.selectExpr(\"RS_LogicalDifference(Band1, Band2) as loggDifference\")\n",
    "logDiff.show(5)"
   ]
  },
  {
   "cell_type": "code",
   "execution_count": 29,
   "metadata": {},
   "outputs": [
    {
     "name": "stdout",
     "output_type": "stream",
     "text": [
      "+--------------------+\n",
      "|         logicalOver|\n",
      "+--------------------+\n",
      "|[865.0, 1084.0, 1...|\n",
      "|[1197.0, 1163.0, ...|\n",
      "+--------------------+\n",
      "\n"
     ]
    }
   ],
   "source": [
    "''' RS_LogicalOver() will iterate over two bands and return value of first band if it is not equal to 0 else it will return value from later band'''\n",
    "logOver = df.selectExpr(\"RS_LogicalOver(Band3, Band2) as logicalOver\")\n",
    "logOver.show(5)"
   ]
  },
  {
   "cell_type": "markdown",
   "metadata": {},
   "source": [
    "# Visualising Geotiff Images\n",
    "\n",
    "1. Normalize the bands in range [0-255] if values are greater than 255\n",
    "2. Process image using RS_Base64() which converts in into a base64 string\n",
    "3. Embedd results of RS_Base64() in RS_HTML() to embedd into IPython notebook\n",
    "4. Process results of RS_HTML() as below:"
   ]
  },
  {
   "cell_type": "code",
   "execution_count": 33,
   "metadata": {},
   "outputs": [
    {
     "name": "stdout",
     "output_type": "stream",
     "text": [
      "+--------------------+--------------------+--------------------+--------------------+\n",
      "|                Geom|             RedBand|            BlueBand|           GreenBand|\n",
      "+--------------------+--------------------+--------------------+--------------------+\n",
      "|POLYGON ((-58.702...|<img src=\"data:im...|<img src=\"data:im...|<img src=\"data:im...|\n",
      "|POLYGON ((-58.286...|<img src=\"data:im...|<img src=\"data:im...|<img src=\"data:im...|\n",
      "+--------------------+--------------------+--------------------+--------------------+\n",
      "\n"
     ]
    }
   ],
   "source": [
    "''' Plotting images as a dataframe using geotiff Dataframe.'''\n",
    "\n",
    "df = spark.read.format(\"geotiff\").option(\"dropInvalid\",True).load(DATA_DIR)\n",
    "df = df.selectExpr(\"image.origin as origin\",\"image.Geometry as Geom\", \"image.height as height\", \"image.width as width\", \"image.data as data\", \"image.nBands as bands\")\n",
    "\n",
    "df = df.selectExpr(\"RS_GetBand(data,1,bands) as targetband\", \"height\", \"width\", \"bands\", \"Geom\")\n",
    "df_base64 = df.selectExpr(\"Geom\", \"RS_Base64(height,width,RS_ImageNormalize(targetBand), RS_Array(height*width,0), RS_Array(height*width, 0)) as red\",\"RS_Base64(height,width,RS_Array(height*width, 0), RS_ImageNormalize(targetBand), RS_Array(height*width, 0)) as green\", \"RS_Base64(height,width,RS_Array(height*width, 0),  RS_Array(height*width, 0), RS_ImageNormalize(targetBand)) as blue\" )\n",
    "df_HTML = df_base64.selectExpr(\"Geom\",\"RS_HTML(red) as RedBand\",\"RS_HTML(blue) as BlueBand\",\"RS_HTML(green) as GreenBand\")\n",
    "df_HTML.show(5)"
   ]
  },
  {
   "cell_type": "code",
   "execution_count": 34,
   "metadata": {},
   "outputs": [
    {
     "data": {
      "text/html": [
       "<table border=\"1\" class=\"dataframe\">\n",
       "  <thead>\n",
       "    <tr style=\"text-align: right;\">\n",
       "      <th></th>\n",
       "      <th>Geom</th>\n",
       "      <th>RedBand</th>\n",
       "      <th>BlueBand</th>\n",
       "      <th>GreenBand</th>\n",
       "    </tr>\n",
       "  </thead>\n",
       "  <tbody>\n",
       "    <tr>\n",
       "      <th>0</th>\n",
       "      <td>POLYGON ((-58.70271939504448 -34.41877544555479, -58.70277605822864 -34.42156988068061, -58.6994039180242 -34.42161679331493, -58.69934736692278 -34.4188223533111, -58.70271939504448 -34.41877544555479))</td>\n",
       "      <td><img src=\"data:image/png;base64,iVBORw0KGgoAAAANSUhEUgAAACAAAAAgCAYAAABzenr0AAAFGElEQVR42l2X2W4jRRSG+zVhEu9b2+6O492xE8eJE8eZZLIxZNaISZgJIAHSSGwSFyziDoRAvABPgMQVQkhDneg70q+5+F3d5aqz/Gep6qgVRW/WAhoBpYA6Y5XnWkCRNb2AecCDgIuA44A44LOAPwM+DeiwZxU5hnxAhTGPbJsvB0Td8DNCuG3eFMWTAPs/hwH7rH0d8DTgVcAQPAm4ClgieAXDDRmQR1aeeTM+Mk8GojTBkHWQsNCepwGLgK2AMc87KP084N+A31ifBRnYyPGeYy7rDMyg3wTdBuyhbChGbDCOWechM3YOAt4L+CHgb8Y6jC6g2z1eQbmPZkw0QKCN3yDQvD5BiC38ACVbGLZLOM4ZzYlDDDWvUgy9YH0snq9iQAl5kXnVJ/aWYG08WzKaUf8FfImwiSh9TSKmrG3gacJ7l3A6YwUM7GKsyYvq/DkApuAU+syrXwJ+Rukuhl7i4RAvb1nfw4AWiivInsq7OzdFftRg0Rrem0fXKJtLLhwwGp0PoX+MkHMxrgJS1hruY/AMz23/x4xRFQPWMaAhldAhicpYbAKaYJ88uY/nI+YOQULcazh1IHlygdHGXFRiUUr2uoI6yhMpTy/XAkl5g/AJtJ8z95S5GCem5NkIlgbMW9+I2igqYnEsyXOL5W1odYYasHFN/c8J4QVe7kPvkcS/Kt7vsd6cjooSN2843nZfYLW31xYe7CHoUcC3KB1TVnPibYb9HvAJ74c4c0PY1rwTZqU8huJtjNIZ1DaYT9hsNP8U8DW5cExYljBg/3/B3j6MGBtnvJeRH9UwoM2hsoGiDh65wjLvHQnBV8LSMaXoZ8s6FI/Zkye3NijjEf9FfhCZ8l959iqY8ewMXeBdD2FLsM1htC2J3JbK6dP5EvZew9ZdH0h4+J5jti5VoBWSstkzeiyn5RCP2nJ4tcmXBO/LeH6Jvl2Yjby8jkiSVDZ4Ga6jqCmJOGfOW2+duTkhahLKkZyuN+SCt2mTFXkH9JgVUe5l15OWWkP5KdS2pLdbZXwU8BJZdZiwBH0Mc6d47uxMPQm3odGbRCohiMWgEiV1Bf0Jwh5C7QmGpBjRZ/01RvYlT/w+EeUkZn678RzIEIYUI2I2/kMtr8sB06NKUmjvM59QIU9I4jNiv4UT0TtMnLGxhqdFsj9GSUYM+BEBexjYIByPGZdQ3WVcUK439IUh6za8EZmC5yRh9i3qC3KR8LVVyYkmIXguDpjCP+QU9A55AAt+Tsz9MMpB4Q5KS3KLLTCugIr0AW8s1pKfIaeJwu8CPuQ8eQAbdgT/RZseY/BdEvrGOR5k5DZbQKmHpAB923h0guEtaTZVcuAlN6lbktt6zRuS3ZP47jT0BEzw8h54F+OKCPdnv8RuwoC37AZzfqe4gglvcFa678vdsud9oAn1ejCV5Paakdiv8v8aFHblFjyRa9kaVXIp94iZMDbyS6l/oTjFNYS0RHmONR0JR4K3O8wPOScWcqy7oUO5d27JxWTT7wMl8do7lZ+SOel4QzyuSrsdEYYJJbaQLhhj4Av+78jaLS/Diijyu3pe3uuc7XXgR3NZmtNADGmzpgVLcwxYkpgDScK7HIihNCtZXJAKqMp5kJfvvRIMON2Dt9p3Kqdpm/+7GOffoHffBd5ssqKgLAlY4b3OmhpC/Cu3IA1JmcxIOVfkeu8XkSNKOXLFWel8/r4iX7P+yR7Ldc1bdl7ClqGEvXGtYsAYw/ucgs+oiP8BXnjcbWu2MEoAAAAASUVORK5CYII=\" width=\"200\"/></td>\n",
       "      <td><img src=\"data:image/png;base64,iVBORw0KGgoAAAANSUhEUgAAACAAAAAgCAYAAABzenr0AAAFHklEQVR42l2X2W4jRRSG/ZowifetbbfttPexY8exsziTTBYzBGaJSMJMAIlBGolN4oJF3IEQiBfgCZC4QgjJVDXf8fyai9/VXa46y3+Wqk4kEs1VItFwqDrkHSqMJZ7LDjnWdBzmDg8dlg4nDoHDS4c/HD51aLFnEzkeGYciYwbZfr7gkGi7nwHC/eZtUTxa/f9/GgP2WfvK4YnDC4c+eOxw5bBA8AaGeyRBBlkZ5r3xsSc9URpiyBYIWeifJw4HDmOHIc+7KP3M4R+HX1mfAknYSPOeZi5lDEyh3wu6c9hDWV+MuM84ZJ2FzLNz6PCOw/cOfzFWYPQAus3jDZTb6I2JvW/AwtcI9F6fIsQv/AAlYwybEY4LRu/EEYZ6r+oYumR9IJ5vYkAeebFXXWLvEyzCswWjN+pfhy8QNhKlr0jEOmureBry3iacxlgWA9sY6+XFdFVhoIeCM+jzXv3s8BNKZxh6iYd9vLxjfQcDmiguInsi7+bcBPnxgipWRnh0g7K55MIho6fzEfQPEXIhxhVBnbUeDzB4iud+/8eMcZJUER7xbJXQIokKWOwF1MA+efIAzwfMHYGQuJdx6lDyZInRnrk4GcpYXBEFFZSHUp5WrlmS8hbhI2i/YO4JcwFOTMizASz1mPd9I/a6ROzSbLLkucPyCFqNoSps3FD/c0K4xMt96D2W+JfE+z3We6djxRY3azjWdq+x2tprEw/2EPSewzcoHVJWc+LtDfvN4RPej3DmlrA1rBOmpDz64m2A0inUVpkP2exp/tHhK3LhhLAsYMD//zl7uzDi2TjnvYD8+CeL4pfQVMTrsSgs8N6SEHwpLJ1Qina2bEHxkD0Zcus+ZTzgv/VB5JX/wrNVwZRnY2iJdx2ELcAOh9GOJHIkldOl84XsvYGtuA+EPHzHMVuRKtAKqbPZMnoop2UfjyI5vCLyJcT7Ap5fom8Gs+vyOiZJ6rLBynALRTVJxDlz1norzM0JUY1QDuR0vSUXrE17WesOaDHLodzKriMttYzyM6htSm/3lfGRw3NkVWDCJ+j7MHeG58bOxJJwBxqtSdQlBIEYlKekrqA/RNgjqD3FkDpGdFl/g5FdyRO7T6ybTyS3G8uBJGGoY0TAxr+p5S05YDpUSR3au8yHVMhjkvic2I9xIvEWE+dsLONpjuwPUJIUA35AwN7q9VnShOomlTHDgBmeXpMDFzjZpCTjRuQVPCMJU29Qn5WLhK0tSU7UCMEzccAr/F1OQeuQh7Bg58TcDqM0FO6iNC+32CzjBihKH7DG4lvyU+TUUPitw4ecJw9hwx/Bf9KmhxgcW2wb53iQlNtsFqUWkiz07eDRKYY3pdmUyIHn3KTuSG7fa1YkuyVxnHyWgCFe3gNvY1xu9ZqpnFxit2HAWnaVObtTXMGENThfuu/K3bJjfaAG9Xow5eX2mpTYb/J/AwrbcgseybWsQZVcyj1iKowN7FJqXyhGcRkhTVGeZk1LwhHi7S7zfc6JAznWzdC+3DvHcjHZtvtAXry2TmWnZFo6Xh+PS9JuB4RhRIkdSBcMMPCa/1uydmxlWBRFdlfPyHuFs70C7GguSHPqiSERa5qwNMeABYnZkySMcyCA0pRkcVYqoCTnQUa+9/IwYHT33mjfdTlNI/5vY5x9g8bfBdZsUqKgIAlY5L3CmjJC7Cs3Kw1JmUxKORflem8XkWNKea04JZ3P3jfka9Y+2QO5rlnLzkjYkpSwNa5NDBhieJdT8GlcEf8BnfrcbeQzXygAAAAASUVORK5CYII=\" width=\"200\"/></td>\n",
       "      <td><img src=\"data:image/png;base64,iVBORw0KGgoAAAANSUhEUgAAACAAAAAgCAYAAABzenr0AAAFGElEQVR42l2X2W4jRRSG/ZpA4i3euu1uO+09duw4ceI4k0w2hswaMQlDAIlBGolN4oJF3IEQiBfgCZC4QghpqGq+Y/2ai9/VXa46y3+Wqs5kWpnXmaZD3aHkEDJWea45bLCm6zB3uO9w6XDiEDi8dPjD4VOHNnvWkeNRcKgwFpDt58sOmY77GSLcb94WxWMH/38eAw5Y+8rhicOHDgPw2OHaYYngNQz3yIICsgrMe+NTT/qiNMKQTRCx0D9PHRYOE4cRz7so/czhH4dfWZ8DWdjI855nLmcMzKDfC7pz2EfZQIzYYhyxzkLm2Tl0eNfhe4e/GEMYXUC3ebyGchu9Man3TVj4GoHe61OE+IXvo2SCYXuE44LRO3GEod6rGEMvWR+I5+sYUEJe6lWP2PsES/BsyeiN+tfhC4SNRekrEjFmbR1PI947hNMYK2JgB2O9vJSuOgz0UXAGfd6rnx1+Qukehl7h4QAv71jfxYAWiivInsq7OTdFfrqgjpUJHt2gbC65cMjo6XwA/SOEXIhxFRCz1uMeBs/w3O//mDFNkjrCE56tEtokURmLvYAGOCBP7uH5kLkjEBH3Gk4dSp5cYrRnLk2GGhaHoiBEeSTlaeVaJClvET6G9gvmnjAX4MSUPBvCUp953zdSr6vELs8mS547LE+g1Riqw8YN9T8nhJd4eQC9xxL/qni/z3rvdKrY4mYNx9ruc6y29trCg30EPXT4BqUjympOvL1hvzl8wvsRztwStqZ1wpyUx0C8DVA6g9o68xGbPc0/OnxFLpwQliUM+P8/Z28PRjwb57yXkZ/+FFH8EpoqeD0RhWXe2xKCL4WlE0rRzpZNKB6xp0BubVHGQ/5bHURe+S88WxXMeDaGLvGui7Al2OEw2pFETqRyenS+iL03sJX2gYiH7zhmQ6kCrZCYzZbRIzktB3iUyOGVkC8R3pfx/Ap9ezC7Kq9jkiSWDVaGmyhqSCLOmbPWGzI3J0QNQjmU0/WWXLA27WWtOqDFbAPlVnZdaak1lJ9BbUt6u6+MjxxeICuECZ+gj2DuDM+Nnakl4Q40WpOIJQSBGFSipK6hP0LYA6g9xZAYI3qsv8HInuSJ3SdWzSeR243lQJYwxBgRsPFvanlTDpguVRJDe4/5iAp5TBKfE/sJTmTeYuKcjTU83SD7A5RkxYAfELCPgXXC8YhxCdUdxgXlektfGLBuyxqRV/CMJMy9QX1RLhK2tio50SAEz8QBr/B3OQWtQx7Cgp0TczuM8lC4i9KS3GKLjGugIn3AGotvyU+R00Dhtw4fcJ7chw1/BP9Jmx5hcGqxbZzjQVZus0WUWkiK0LeDR6cY3pJmUyUHXnCTuiO5fa95TbJbEqfJZwkY4eU74G2M20C4PdsldhsGrGXXmbM7xTVMWIPzpfue3C271gcaUK8HU0lur1mJ/Tr/N6GwI7fgsVzLmlTJldwjZsLY0C6l9oViFNcQ0hLleda0JRwR3u4yP+CcWMixboYO5N45kYvJtt0HSuK1dSo7JfPS8QZ4XJV2OyQMY0psIV0wwMDn/N+WtRMrw4oosrt6Qd5DzvYQ2NFclubUF0MS1rRgaY4BSxKzL0mY5kAApTnJ4qJUQFXOg4J875VgwOjuv9G+YzlNE/7vYJx9g6bfBdZscqKgLAlY4T1kTQ0h9pVblIakTGalnCtyvbeLyDGlvFKck85n72vyNWuf7IFc16xlFyRsWUrYGtc6BowwvMcp+PT/ivgPfjncbZ0NSCIAAAAASUVORK5CYII=\" width=\"200\"/></td>\n",
       "    </tr>\n",
       "    <tr>\n",
       "      <th>1</th>\n",
       "      <td>POLYGON ((-58.28663657626114 -34.75858090620287, -58.28667994174946 -34.76137571668496, -58.28329340123002 -34.76141146033393, -58.28325014980316 -34.75861664615162, -58.28663657626114 -34.75858090620287))</td>\n",
       "      <td><img src=\"data:image/png;base64,iVBORw0KGgoAAAANSUhEUgAAACAAAAAgCAYAAABzenr0AAAE+UlEQVR42l2XS4/bVBTH/R0p08nDieOx4zhO7LxfM5lH0xnoY9qhtKgMagEJVd0hIbaw4FuwR2zY8QXKvdHvoL+yOLF977nn/M/7JoiD4FPHUelo4Shx9NBR31HlqO3I8zQcHTtqOooctXgv2D9iP2Yt4sxDqIGsnaO/HL1ylDsKUgCkgMgR3GYtFiFeQR3lkfCMHPXg9We7Yog/EwIgRMczzpx4AP5n4miA1TnUEvKHP3P0AEsNkFc0dnTr6AVgauyF4oUO3976P7De8w49gDkAEhDFAEhBn/B+JACOAeQ9cO7oFMtCeI4B0YLfQNw7+hUA3uAbDUEf97UAMCGWU/bash/KM5LnhLMNqH4QzgGhWiDXey2owdjHpRFCvGc2vO842IGarPd4t7y44MwRngxRHuKVGmcGhO65B9AWt7YlYRJJru9BPSBMXSxKAWDVkVI5XQlhjb0HAtzH/tLR0gMw90coq1ASAcIrnQGmQEiIoEsUhch44ugd6wXeiiVELXl2eO6rYImCGKWmPMeaEGpK/Gckk5WpD9lvJNkYK/3ZDM+ecL7HehsQQUOSIxX35Rxu8d2WRhMjcA74JoCv+O5LTiUSVkvAgrwpLQS5CLYMTcWFJ7y3xSM3lGAqyZkgtMCjFZWxQ8YQXY/Y84YHFvMxzBNJNhPcEOVTsvd3R3dYOuJMxdoWXmtkI/gyzr/k2wMOTlFawVBKG63zrOGJES5+Q7L5sltxNmbvDDkNUewBf8H3l46eAngfgh0uy6TEOjxj4v651HBf8mPIM4I3AnQX3g+OHlMd91THCi9UvAdPD3p/nxgN+Y5RXiMMBR4zb20kq+usbzBiwXuFB7YkagXAPYAt2WzdbO3oPcibUgl1hNrhkCT8kSRL4FlydghAa8FzIWvzPu+CM4aJ3QtyevQ76YSWQLF894jnPbSVZF4BIJHEXcu4r9j38oOWxD4D4Tkze8PaiIR7xmErSevpOxrTBda1Dqqqi+IR6zk6UxtGTVBnUvs2Cae49Dmd75Z45gJkwvoV/JG4fUK4xsjv8azMA9bF1jJwBoDIxK2JxDCTLLYJWiA8l6a0xIs+ZG+l3Q+lIoK2WG2TqkBxLoOjiTAD6PPkJ0B34C+poK3U+QyQp8heozyzJKwRC8uDhQwQ84J1xqk0oz8ZPGvWrCzfEoou56x1m5xLkjdEXhBhQQHaO4TWULqQvrAiF/z3z46u8coU3jpWjQHxNQn9LXwpHrWq8PqCOhu+lP5x9AnLSsneW7qZ3ZIsTHP2S7mKG88KAE9I3hJgc97/L8MOWf6Do38d/e3oF+JoGfsIgHbY6tgsusIiu0dkALKcWRA2f/61o49M0/2NaALjGKQbGZsFw2WAkjO5UNgdIWK4rKV6bOicIudMKuYcj64BtAcwlvE4AYD9WZkheEkjuibeNlozUWButfhOpR/Yv65ELrjegMAODrHmPeEYyZ8Hq/9XJFQugDNK8pq1sXTLvsixW9cNHdOaXnDBgYQZ7pPmO1xVYfmS9x1dsDzwggf1jbh/IbPjDlARe48Jj3XM/X1gKr0gw31Dqe2QsrS/bzamS+p6Q7x7cp3vy8TcwW994Ct49n9Ob2EYybA4QYnd6w1AS27NFoZrKqbEEFufyZ+QFbKtkc0Iqc+d4CUuGZEU9qfzBehDudVad+zK6F5i/ZQELg9u1QZ4S3gXGGkt+j+ETrY0fwAAjQAAAABJRU5ErkJggg==\" width=\"200\"/></td>\n",
       "      <td><img src=\"data:image/png;base64,iVBORw0KGgoAAAANSUhEUgAAACAAAAAgCAYAAABzenr0AAAE/ElEQVR42l2XyXLcVBSG+x0JjntQS62WWq0epJ4nu2M7HZuExCEJQwVTCVBFUeyootjCgrdgT7FhxwuYe5XvmL+8OC3p3jP8Z7y3a7VafFurdRwVjlaOEkcPHQ0clY7C2w88TUfHjlqOIkdt3ofsH7EfsxYh8xBqouvg6C9HbxzljmopAFJA5CgOWYtFiTfQwHgkPBNHfXi9bE8c8TIBAAJsPEem6wH4n5mjEV7nUFvIC3/k6AGeGiBvaOro2tFLwNTZCyQKHb6993/gvecdewBLACQgigGQgj7h/UgAHAPIR+CRoxM8C+A5BkQbfgNx4+hXAHiHrzQFA8LXBsCMXM7ZC2U/kGckzxmyTahxL50jUrVCr49aFbIGRnoo8kp8ZHa8HxDsQC3W+7xbXZwhc0QkA4wHRKWOzIjUvfAAQglrKAWTSHF9C+oRaerhUQoA646UzulJCuvsPRDgPvfnjtYegIU/wliJkQgQ3ugCMEOUBCg6x1CAjmeO3rE+JFqxpKgtzw7PytgaAzFGzXiONwHUkvwvKCZrU5+y3yiyKV562YzIdpHvsx4Cogq3FUcq4csRbvMdyqCJUbgEfAvAF3wPpKYSSasV4JC6KSwFuSi2Ck0lhF3eQ4nIFS2YSnEmKB0S0ZLOOKBjjK3H7HnH73I+hXkmxWaKm2J8TvX+7ugVnk6QKVnbw2uDbAJfhvxnfHvA1RCZIZzhgY3RBs86kZgQ4i8pNt92G2Rj9k7R0xTDHvAnfD919CmAqxQcCFkmLdbhGZP3j6WHB1IfY54RvBGge/D+6OgJ3XFDd2yIQsl7hUZn/4AcjfmOMV4nDUMiZtHaSVU3WN/hxIr3kgjsKdQSgBWAPdVs02zr6D3IW9IJDZSacEARfk+RJfCskR0D0EbwUsjGvK+7Kmcnt//fC3Jm9DuZhFZAsXz3yecNtJdi3gAgkcLdynFfsu/1V951ZWgs8ew54ctgPGOtlJa0mX5gMJ3hXfteV/UwPGE9x2Zqh1EL1Jn0vp2Ec0L6gsl3TT5zATJj/QL+SMI+I11T9Pd5lhYBm2JbOXBGgMgkrInkMJMqthN0iPJchtKaKPqUvZVxP5aOuJvJsZxUQwzncnC0UGYAfZ38AOgO/AUdtJc+XwDyBN1bjGdWhHVyYXWwkgPEomCTcS7D6E8Oni1r1pZvSUUPORvdpuec4g3QV4Wvg9cLRumWvu8CyObChlrw3z87uiQqc3gbeDUFxOcU9NfwpUTUusLbq4RSWukfR7d4Vkj1XjPN7JZkaVqyX8hV3Hg2AHhG8RYAW/J+14Ydqvw7R/86+tvRL+TRKvYxAE3Y+tg8usAju0dkALKaWZE2L/+Fo584Tasb0QzGKUh3cmwOOVxGGDmVC4XdESIOl610jx06J+g5lY55RES3AKoATOV4nAHA/qwsULxmEF2SbztaMzFgYbX8zmUe2L+uRC643oE7wTHevCcdE/nzYP3/hoLKBXBGS16yNpVpORA9duu6YmLa0Ks+SpQ1KZpvCFWJ52veD0zB4l4UPKivJPwrOTteASpi7wnpsYlZKZ3LLMgI31h6O6At7e+bHdMFfb0j3325zg/kxDzAb3PgNTzVn9NrGCZyWHQxYvd6A9CWW7Ol4ZKOKXDE1hfyJ2SDbhtkC1Lqa6e6nz1lI5Q/nS9BH8it1qZjT47uNd7PKeDi3q3aAO9J7wonP4zo/wAQUbY0YC8pHQAAAABJRU5ErkJggg==\" width=\"200\"/></td>\n",
       "      <td><img src=\"data:image/png;base64,iVBORw0KGgoAAAANSUhEUgAAACAAAAAgCAYAAABzenr0AAAE+ElEQVR42l2XyW7bVhSG9Y5NHWugSFGkKGogNU+2YjuK3aSJ3SQdkLpomgBFkF2Bott20bfovuimu75Aei/xHeOHF0ck7z3Df8Z7VavFtU+1jqPC0cpR4uiho4Gj0lHoyPM0HR07ajmKHLV5H7J/xH7MWoTMQ6iJroOjvx29dpQ7qqUASAGRozhkLRYl3kAD45HwTBz14fWyPXHEywQACLDxHJmuB+B/Zo5GeJ1DbSEv/JmjB3hqgLyhqaNrRzeAqbMXSBQ6fHvv/8R7zzv2AJYASEAUAyAFfcL7kQA4BpCPwCNHJ3gWwHMMiDb8BuLW0W8A8A5faQoGhK8NgBm5nLMXyn4gz0ieM2SbUONeOkekaoVeH7UqZA2M9FDklfjI7Hg/INiBWqz3ebe6OEPmiEgGGA+ISh2ZEal74QGEEtZQCiaR4voJ1CPS1MOjFADWHSmd05MU1tl7IMB97s8drT0AC3+EsRIjESC80QVghigJUHSOoQAdzxz9yPqQaMWSorY8OzwrY2sMxBg14zneBFBL8r+gmKxNfcp+p8imeOllMyLbRb7PegiIKtxWHKmEL0e4zXcogyZG4RLwLQBf8D2QmkokrVaAQ+qmsBTkotgqNJUQdnkPJSJXtGAqxZmgdEhESzrjgI4xth6z5x2/y/kU5pkUmyluivE51fuHo5d4OkGmZG0Prw2yCXwZ8l/x7QFXQ2SGcIYHNkYbPOtEYkKIv6XYfNttkI3ZO0VPUwx7wF/w/dTRlwCuUnAgZJm0WIdnTN4/lx4eSH2MeUbwRoDuwfvB0RO645bu2BCFkvcKjc7+ATka8x1jvE4ahkTMorWTqm6wvsOJFe8lEdhTqCUAKwB7qtmm2dbRW5C3pBMaKDXhgCJ8T5El8KyRHQPQRvBSyMa8r7sqZyd4ah1xQ44nEvYMHvvuk89baC/FvAFAIoW7leO+ZN/rr7zrytBY4tlzwpfBeMZaKS1pM/3AYDrDu/a9rupheMJ6js3UDqMWqDPpfTsJ54T0BZPvmnzmAmTG+gX8kYR9Rrqm6O/zLC0CNsW2cuCMAJFJWBPJYSZVbCfoEOW5DKU1UfQpeyPjfiwdcTeTYzmphhjO5eBoocwA+jr5GdAd+As6aC99vgDkCbq3GM+sCOvkwupgJQeIRcEm41yG0V8cPFvWrC3fkIoecja6Tc85xRugrwpfB68XjNItfd8FkM2FDbXgv39xdElU5vA28GoKiK8p6O/hS4modYW3VwmltNK/jj7hWSHVe800s1uSpWnJfiFXcePZAOAZxVsAbMn7XRt2qPJ3jv5z9I+jX8mjVexjAJqw9bF5dIFHdo/IAGQ1syJtXv4bRx85Tasb0QzGKUh3cmwOOVxGGDmVC4XdESIOl610jx06J+g5lY55RES3AKoATOV4nAHA/qwsULxmEF2SbztaMzFgYbX8zmUe2L+uRC643oE7wTHevCUdE/nzYP3/moLKBXBGS16yNpVpORA9duu6YmLa0Ks+SpQ1KZofCFWJ52veD0zB4l4UPKjvJPwrOTteAipi7wnpsYlZKZ3LLMgI31h6O6At7e+bHdMFfb0j3325zg/kxDzAb3PgFTzVn9NrGCZyWHQxYvd6A9CWW7Ol4ZKOKXDE1hfyJ2SDbhtkC1Lqa6e6nz1lI5Q/nTegD+RWa9OxJ0f3Gu/nFHBx71ZtgPekd4WTjOj/AcpItjQjztX+AAAAAElFTkSuQmCC\" width=\"200\"/></td>\n",
       "    </tr>\n",
       "  </tbody>\n",
       "</table>"
      ],
      "text/plain": [
       "<IPython.core.display.HTML object>"
      ]
     },
     "metadata": {},
     "output_type": "display_data"
    }
   ],
   "source": [
    "display(HTML(df_HTML.limit(2).toPandas().to_html(escape=False)))"
   ]
  }
 ],
 "metadata": {
  "kernelspec": {
   "display_name": "apache-sedona",
   "language": "python",
   "name": "apache-sedona"
  },
  "language_info": {
   "codemirror_mode": {
    "name": "ipython",
    "version": 3
   },
   "file_extension": ".py",
   "mimetype": "text/x-python",
   "name": "python",
   "nbconvert_exporter": "python",
   "pygments_lexer": "ipython3",
   "version": "3.7.5"
  }
 },
 "nbformat": 4,
 "nbformat_minor": 2
}
