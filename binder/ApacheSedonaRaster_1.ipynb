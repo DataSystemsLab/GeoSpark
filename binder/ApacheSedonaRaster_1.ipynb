{
 "cells": [
  {
   "cell_type": "code",
   "execution_count": 1,
   "metadata": {},
   "outputs": [],
   "source": [
    "import findspark\n",
    "findspark.init()"
   ]
  },
  {
   "cell_type": "code",
   "execution_count": 2,
   "metadata": {},
   "outputs": [],
   "source": [
    "from IPython.display import display, HTML\n",
    "from pyspark.sql import SparkSession\n",
    "from pyspark import StorageLevel\n",
    "import pandas as pd\n",
    "from pyspark.sql.types import StructType, StructField,StringType, LongType, IntegerType, DoubleType, ArrayType\n",
    "from pyspark.sql.functions import regexp_replace\n",
    "from sedona.register import SedonaRegistrator\n",
    "from sedona.utils import SedonaKryoRegistrator, KryoSerializer\n",
    "from pyspark.sql.functions import col, split, expr\n",
    "from pyspark.sql.functions import udf, lit\n",
    "from sedona.utils import SedonaKryoRegistrator, KryoSerializer\n",
    "from pyspark.sql.functions import col, split, expr\n",
    "from pyspark.sql.functions import udf, lit\n"
   ]
  },
  {
   "cell_type": "markdown",
   "metadata": {},
   "source": [
    "# Create Spark Session for application"
   ]
  },
  {
   "cell_type": "code",
   "execution_count": 3,
   "metadata": {},
   "outputs": [],
   "source": [
    "spark = SparkSession.\\\n",
    "    builder.\\\n",
    "    master(\"local[*]\").\\\n",
    "    appName(\"Demo-app\").\\\n",
    "    config(\"spark.serializer\", KryoSerializer.getName).\\\n",
    "    config(\"spark.kryo.registrator\", SedonaKryoRegistrator.getName) .\\\n",
    "    config(\"spark.executor.cores\", 3) .\\\n",
    "    config(\"spark.driver.memory\", \"4G\") .\\\n",
    "    config(\"spark.kryoserializer.buffer.max.value\", \"4096\") .\\\n",
    "    config(\"spark.sql.crossJoin.enabled\", \"true\") .\\\n",
    "    getOrCreate()\n",
    "\n",
    "SedonaRegistrator.registerAll(spark)\n",
    "sc = spark.sparkContext\n"
   ]
  },
  {
   "cell_type": "markdown",
   "metadata": {},
   "source": [
    "# Geotiff Loader \n",
    "\n",
    "1. Loader takes as input a path to directory which contains geotiff files or a parth to particular geotiff file\n",
    "2. Loader will read geotiff image in a struct named image which contains multiple fields as shown in the schema below which can be extracted using spark SQL"
   ]
  },
  {
   "cell_type": "code",
   "execution_count": 4,
   "metadata": {},
   "outputs": [],
   "source": [
    "# Path to directory of geotiff images \n",
    "DATA_DIR = \"./data/raster/\""
   ]
  },
  {
   "cell_type": "code",
   "execution_count": 5,
   "metadata": {
    "scrolled": true
   },
   "outputs": [
    {
     "name": "stdout",
     "output_type": "stream",
     "text": [
      "root\n",
      " |-- image: struct (nullable = true)\n",
      " |    |-- origin: string (nullable = true)\n",
      " |    |-- Geometry: geometry (nullable = true)\n",
      " |    |-- height: integer (nullable = true)\n",
      " |    |-- width: integer (nullable = true)\n",
      " |    |-- nBands: integer (nullable = true)\n",
      " |    |-- data: array (nullable = true)\n",
      " |    |    |-- element: double (containsNull = true)\n",
      "\n"
     ]
    }
   ],
   "source": [
    "df = spark.read.format(\"geotiff\").option(\"dropInvalid\",True).load(DATA_DIR)\n",
    "df.printSchema()"
   ]
  },
  {
   "cell_type": "code",
   "execution_count": 6,
   "metadata": {},
   "outputs": [
    {
     "name": "stdout",
     "output_type": "stream",
     "text": [
      "+--------------------+--------------------+------+-----+--------------------+-----+\n",
      "|              origin|                Geom|height|width|                data|bands|\n",
      "+--------------------+--------------------+------+-----+--------------------+-----+\n",
      "|file:///home/hp/D...|POLYGON ((-58.702...|    32|   32|[1081.0, 1068.0, ...|    4|\n",
      "|file:///home/hp/D...|POLYGON ((-58.286...|    32|   32|[1151.0, 1141.0, ...|    4|\n",
      "+--------------------+--------------------+------+-----+--------------------+-----+\n",
      "\n"
     ]
    }
   ],
   "source": [
    "df = df.selectExpr(\"image.origin as origin\",\"image.Geometry as Geom\", \"image.height as height\", \"image.width as width\", \"image.data as data\", \"image.nBands as bands\")\n",
    "df.show(5)"
   ]
  },
  {
   "cell_type": "markdown",
   "metadata": {},
   "source": [
    "# Extract a particular band from geotiff dataframe using RS_GetBand()\n"
   ]
  },
  {
   "cell_type": "code",
   "execution_count": 7,
   "metadata": {},
   "outputs": [
    {
     "name": "stdout",
     "output_type": "stream",
     "text": [
      "+--------------------+--------------------+--------------------+--------------------+--------------------+\n",
      "|                Geom|               Band1|               Band2|               Band3|               Band4|\n",
      "+--------------------+--------------------+--------------------+--------------------+--------------------+\n",
      "|POLYGON ((-58.702...|[1081.0, 1068.0, ...|[865.0, 1084.0, 1...|[0.0, 0.0, 0.0, 0...|[0.0, 0.0, 0.0, 0...|\n",
      "|POLYGON ((-58.286...|[1151.0, 1141.0, ...|[1197.0, 1163.0, ...|[0.0, 0.0, 0.0, 0...|[0.0, 0.0, 0.0, 0...|\n",
      "+--------------------+--------------------+--------------------+--------------------+--------------------+\n",
      "\n"
     ]
    }
   ],
   "source": [
    "''' RS_GetBand() will fetch a particular band from given data array which is the concatination of all the bands'''\n",
    "\n",
    "df = df.selectExpr(\"Geom\",\"RS_GetBand(data, 1,bands) as Band1\",\"RS_GetBand(data, 2,bands) as Band2\",\"RS_GetBand(data, 3,bands) as Band3\", \"RS_GetBand(data, 4,bands) as Band4\")\n",
    "df.createOrReplaceTempView(\"allbands\")\n",
    "df.show(5)"
   ]
  },
  {
   "cell_type": "markdown",
   "metadata": {},
   "source": [
    "# Map Algebra operations on band values "
   ]
  },
  {
   "cell_type": "code",
   "execution_count": 8,
   "metadata": {},
   "outputs": [
    {
     "name": "stdout",
     "output_type": "stream",
     "text": [
      "+--------------------+\n",
      "|            normDiff|\n",
      "+--------------------+\n",
      "|[-0.11, 0.01, 0.0...|\n",
      "|[0.02, 0.01, -0.0...|\n",
      "+--------------------+\n",
      "\n"
     ]
    }
   ],
   "source": [
    "''' RS_NormalizedDifference can be used to calculate NDVI for a particular geotiff image since it uses same computational formula as ndvi'''\n",
    "\n",
    "NomalizedDifference = df.selectExpr(\"RS_NormalizedDifference(Band1, Band2) as normDiff\")\n",
    "NomalizedDifference.show(5)"
   ]
  },
  {
   "cell_type": "code",
   "execution_count": 9,
   "metadata": {},
   "outputs": [
    {
     "name": "stdout",
     "output_type": "stream",
     "text": [
      "+-------+\n",
      "|   mean|\n",
      "+-------+\n",
      "|1153.85|\n",
      "|1293.77|\n",
      "+-------+\n",
      "\n"
     ]
    }
   ],
   "source": [
    "''' RS_Mean() can used to calculate mean of piel values in a particular spatial band '''\n",
    "meanDF = df.selectExpr(\"RS_Mean(Band1) as mean\")\n",
    "meanDF.show(5)"
   ]
  },
  {
   "cell_type": "code",
   "execution_count": 10,
   "metadata": {},
   "outputs": [
    {
     "name": "stdout",
     "output_type": "stream",
     "text": [
      "+----------------+\n",
      "|            mode|\n",
      "+----------------+\n",
      "| [1011.0, 927.0]|\n",
      "|[1176.0, 1230.0]|\n",
      "+----------------+\n",
      "\n"
     ]
    }
   ],
   "source": [
    "\"\"\" RS_Mode() is used to calculate mode in an array of pixels and returns a array of double with size 1 in case of unique mode\"\"\"\n",
    "modeDF = df.selectExpr(\"RS_Mode(Band1) as mode\")\n",
    "modeDF.show(5)"
   ]
  },
  {
   "cell_type": "code",
   "execution_count": 14,
   "metadata": {},
   "outputs": [
    {
     "name": "stdout",
     "output_type": "stream",
     "text": [
      "+--------------------+\n",
      "|         greaterthan|\n",
      "+--------------------+\n",
      "|[1.0, 1.0, 1.0, 0...|\n",
      "|[1.0, 1.0, 1.0, 1...|\n",
      "+--------------------+\n",
      "\n"
     ]
    }
   ],
   "source": [
    "''' RS_GreaterThan() is used to mask all the values with 1 which are greater than a particular threshold'''\n",
    "greaterthanDF = spark.sql(\"Select RS_GreaterThan(Band1,1000.0) as greaterthan from allbands\")\n",
    "greaterthanDF.show()"
   ]
  },
  {
   "cell_type": "code",
   "execution_count": 15,
   "metadata": {},
   "outputs": [
    {
     "name": "stdout",
     "output_type": "stream",
     "text": [
      "+--------------------+\n",
      "|    greaterthanEqual|\n",
      "+--------------------+\n",
      "|[1.0, 1.0, 1.0, 1...|\n",
      "|[1.0, 1.0, 1.0, 1...|\n",
      "+--------------------+\n",
      "\n"
     ]
    }
   ],
   "source": [
    "''' RS_GreaterThanEqual() is used to mask all the values with 1 which are greater than a particular threshold'''\n",
    "\n",
    "greaterthanEqualDF = spark.sql(\"Select RS_GreaterThanEqual(Band1,360.0) as greaterthanEqual from allbands\")\n",
    "greaterthanEqualDF.show()"
   ]
  },
  {
   "cell_type": "code",
   "execution_count": 16,
   "metadata": {},
   "outputs": [
    {
     "name": "stdout",
     "output_type": "stream",
     "text": [
      "+--------------------+\n",
      "|            lessthan|\n",
      "+--------------------+\n",
      "|[0.0, 0.0, 0.0, 1...|\n",
      "|[0.0, 0.0, 0.0, 0...|\n",
      "+--------------------+\n",
      "\n"
     ]
    }
   ],
   "source": [
    "''' RS_LessThan() is used to mask all the values with 1 which are less than a particular threshold'''\n",
    "lessthanDF = spark.sql(\"Select RS_LessThan(Band1,1000.0) as lessthan from allbands\")\n",
    "lessthanDF.show()"
   ]
  },
  {
   "cell_type": "code",
   "execution_count": 17,
   "metadata": {},
   "outputs": [
    {
     "name": "stdout",
     "output_type": "stream",
     "text": [
      "+--------------------+\n",
      "|       lessthanequal|\n",
      "+--------------------+\n",
      "|[1.0, 1.0, 1.0, 1...|\n",
      "|[1.0, 1.0, 1.0, 1...|\n",
      "+--------------------+\n",
      "\n"
     ]
    }
   ],
   "source": [
    "''' RS_LessThanEqual() is used to mask all the values with 1 which are less than equal to a particular threshold'''\n",
    "lessthanEqualDF = spark.sql(\"Select RS_LessThanEqual(Band1,2890.0) as lessthanequal from allbands\")\n",
    "lessthanEqualDF.show()"
   ]
  },
  {
   "cell_type": "code",
   "execution_count": 18,
   "metadata": {},
   "outputs": [
    {
     "name": "stdout",
     "output_type": "stream",
     "text": [
      "+--------------------+\n",
      "|           sumOfBand|\n",
      "+--------------------+\n",
      "|[1946.0, 2152.0, ...|\n",
      "|[2348.0, 2304.0, ...|\n",
      "+--------------------+\n",
      "\n"
     ]
    }
   ],
   "source": [
    "''' RS_AddBands() can add two spatial bands together'''\n",
    "sumDF = df.selectExpr(\"RS_AddBands(Band1, Band2) as sumOfBand\")\n",
    "sumDF.show(5)"
   ]
  },
  {
   "cell_type": "code",
   "execution_count": 19,
   "metadata": {},
   "outputs": [
    {
     "name": "stdout",
     "output_type": "stream",
     "text": [
      "+--------------------+\n",
      "|          diffOfBand|\n",
      "+--------------------+\n",
      "|[-216.0, 16.0, 11...|\n",
      "|[46.0, 22.0, -96....|\n",
      "+--------------------+\n",
      "\n"
     ]
    }
   ],
   "source": [
    "''' RS_SubtractBands() can subtract two spatial bands together'''\n",
    "subtractDF = df.selectExpr(\"RS_SubtractBands(Band1, Band2) as diffOfBand\")\n",
    "subtractDF.show(5)"
   ]
  },
  {
   "cell_type": "code",
   "execution_count": 20,
   "metadata": {},
   "outputs": [
    {
     "name": "stdout",
     "output_type": "stream",
     "text": [
      "+--------------------+\n",
      "|       productOfBand|\n",
      "+--------------------+\n",
      "|[935065.0, 115771...|\n",
      "|[1377747.0, 13269...|\n",
      "+--------------------+\n",
      "\n"
     ]
    }
   ],
   "source": [
    "''' RS_MultiplyBands() can multiple two bands together'''\n",
    "multiplyDF = df.selectExpr(\"RS_MultiplyBands(Band1, Band2) as productOfBand\")\n",
    "multiplyDF.show(5)"
   ]
  },
  {
   "cell_type": "code",
   "execution_count": 21,
   "metadata": {},
   "outputs": [
    {
     "name": "stdout",
     "output_type": "stream",
     "text": [
      "+--------------------+\n",
      "|      divisionOfBand|\n",
      "+--------------------+\n",
      "|[1.25, 0.99, 0.9,...|\n",
      "|[0.96, 0.98, 1.08...|\n",
      "+--------------------+\n",
      "\n"
     ]
    }
   ],
   "source": [
    "''' RS_DivideBands() can divide two bands together'''\n",
    "divideDF = df.selectExpr(\"RS_DivideBands(Band1, Band2) as divisionOfBand\")\n",
    "divideDF.show(5)"
   ]
  },
  {
   "cell_type": "code",
   "execution_count": 22,
   "metadata": {},
   "outputs": [
    {
     "name": "stdout",
     "output_type": "stream",
     "text": [
      "+--------------------+\n",
      "|              target|\n",
      "+--------------------+\n",
      "|[1730.0, 2168.0, ...|\n",
      "|[2394.0, 2326.0, ...|\n",
      "+--------------------+\n",
      "\n"
     ]
    }
   ],
   "source": [
    "''' RS_MultiplyFactor() will multiply a factor to a spatial band'''\n",
    "mulfacDF = df.selectExpr(\"RS_MultiplyFactor(Band2, 2) as target\")\n",
    "mulfacDF.show(5)"
   ]
  },
  {
   "cell_type": "code",
   "execution_count": 23,
   "metadata": {},
   "outputs": [
    {
     "name": "stdout",
     "output_type": "stream",
     "text": [
      "+--------------------+\n",
      "|                 AND|\n",
      "+--------------------+\n",
      "|[33.0, 1068.0, 10...|\n",
      "|[1069.0, 1025.0, ...|\n",
      "+--------------------+\n",
      "\n"
     ]
    }
   ],
   "source": [
    "''' RS_BitwiseAND() will return AND between two values of Bands'''\n",
    "bitwiseAND = df.selectExpr(\"RS_BitwiseAND(Band1, Band2) as AND\")\n",
    "bitwiseAND.show(5)"
   ]
  },
  {
   "cell_type": "code",
   "execution_count": 24,
   "metadata": {},
   "outputs": [
    {
     "name": "stdout",
     "output_type": "stream",
     "text": [
      "+--------------------+\n",
      "|                  OR|\n",
      "+--------------------+\n",
      "|[1913.0, 1084.0, ...|\n",
      "|[1279.0, 1279.0, ...|\n",
      "+--------------------+\n",
      "\n"
     ]
    }
   ],
   "source": [
    "''' RS_BitwiseOR() will return OR between two values of Bands'''\n",
    "bitwiseOR = df.selectExpr(\"RS_BitwiseOR(Band1, Band2) as OR\")\n",
    "bitwiseOR.show(5)"
   ]
  },
  {
   "cell_type": "code",
   "execution_count": 25,
   "metadata": {},
   "outputs": [
    {
     "name": "stdout",
     "output_type": "stream",
     "text": [
      "+-----+\n",
      "|count|\n",
      "+-----+\n",
      "|  753|\n",
      "| 1017|\n",
      "+-----+\n",
      "\n"
     ]
    }
   ],
   "source": [
    "''' RS_Count() will calculate the total number of occurence of a target value'''\n",
    "countDF = df.selectExpr(\"RS_Count(RS_GreaterThan(Band1,1000.0), 1.0) as count\")\n",
    "countDF.show(5)"
   ]
  },
  {
   "cell_type": "code",
   "execution_count": 26,
   "metadata": {},
   "outputs": [
    {
     "name": "stdout",
     "output_type": "stream",
     "text": [
      "+--------------------+\n",
      "|              modulo|\n",
      "+--------------------+\n",
      "|[10.0, 18.0, 18.0...|\n",
      "|[17.0, 7.0, 2.0, ...|\n",
      "+--------------------+\n",
      "\n"
     ]
    }
   ],
   "source": [
    "''' RS_Modulo() will calculate the modulus of band value with respect to a given number'''\n",
    "moduloDF = df.selectExpr(\"RS_Modulo(Band1, 21.0) as modulo \")\n",
    "moduloDF.show(5)"
   ]
  },
  {
   "cell_type": "code",
   "execution_count": 27,
   "metadata": {},
   "outputs": [
    {
     "name": "stdout",
     "output_type": "stream",
     "text": [
      "+--------------------+\n",
      "|                root|\n",
      "+--------------------+\n",
      "|[32.88, 32.68, 32...|\n",
      "|[33.93, 33.78, 35...|\n",
      "+--------------------+\n",
      "\n"
     ]
    }
   ],
   "source": [
    "''' RS_SquareRoot() will calculate calculate square root of all the band values upto two decimal places'''\n",
    "rootDF = df.selectExpr(\"RS_SquareRoot(Band1) as root\")\n",
    "rootDF.show(5)\n"
   ]
  },
  {
   "cell_type": "code",
   "execution_count": 28,
   "metadata": {},
   "outputs": [
    {
     "name": "stdout",
     "output_type": "stream",
     "text": [
      "+--------------------+\n",
      "|      loggDifference|\n",
      "+--------------------+\n",
      "|[1081.0, 1068.0, ...|\n",
      "|[1151.0, 1141.0, ...|\n",
      "+--------------------+\n",
      "\n"
     ]
    }
   ],
   "source": [
    "''' RS_LogicalDifference() will return value from band1 if value at that particular location is not equal tp band1 else it will return 0'''\n",
    "logDiff = df.selectExpr(\"RS_LogicalDifference(Band1, Band2) as loggDifference\")\n",
    "logDiff.show(5)"
   ]
  },
  {
   "cell_type": "code",
   "execution_count": 29,
   "metadata": {},
   "outputs": [
    {
     "name": "stdout",
     "output_type": "stream",
     "text": [
      "+--------------------+\n",
      "|         logicalOver|\n",
      "+--------------------+\n",
      "|[865.0, 1084.0, 1...|\n",
      "|[1197.0, 1163.0, ...|\n",
      "+--------------------+\n",
      "\n"
     ]
    }
   ],
   "source": [
    "''' RS_LogicalOver() will iterate over two bands and return value of first band if it is not equal to 0 else it will return value from later band'''\n",
    "logOver = df.selectExpr(\"RS_LogicalOver(Band3, Band2) as logicalOver\")\n",
    "logOver.show(5)"
   ]
  },
  {
   "cell_type": "markdown",
   "metadata": {},
   "source": [
    "# Visualising Geotiff Images\n",
    "\n",
    "1. Normalize the bands in range [0-255] if values are greater than 255\n",
    "2. Process image using RS_Base64() which converts in into a base64 string\n",
    "3. Embedd results of RS_Base64() in RS_HTML() to embedd into IPython notebook\n",
    "4. Process results of RS_HTML() as below:"
   ]
  },
  {
   "cell_type": "code",
   "execution_count": 5,
   "metadata": {},
   "outputs": [
    {
     "name": "stdout",
     "output_type": "stream",
     "text": [
      "+--------------------+--------------------+--------------------+--------------------+--------------------+\n",
      "|                Geom|             RedBand|            BlueBand|           GreenBand|        CombinedBand|\n",
      "+--------------------+--------------------+--------------------+--------------------+--------------------+\n",
      "|POLYGON ((-58.702...|<img src=\"data:im...|<img src=\"data:im...|<img src=\"data:im...|<img src=\"data:im...|\n",
      "|POLYGON ((-58.286...|<img src=\"data:im...|<img src=\"data:im...|<img src=\"data:im...|<img src=\"data:im...|\n",
      "+--------------------+--------------------+--------------------+--------------------+--------------------+\n",
      "\n"
     ]
    }
   ],
   "source": [
    "''' Plotting images as a dataframe using geotiff Dataframe.'''\n",
    "\n",
    "df = spark.read.format(\"geotiff\").option(\"dropInvalid\",True).load(DATA_DIR)\n",
    "df = df.selectExpr(\"image.origin as origin\",\"image.Geometry as Geom\", \"image.height as height\", \"image.width as width\", \"image.data as data\", \"image.nBands as bands\")\n",
    "\n",
    "df = df.selectExpr(\"RS_GetBand(data,1,bands) as targetband\", \"height\", \"width\", \"bands\", \"Geom\")\n",
    "df_base64 = df.selectExpr(\"Geom\", \"RS_Base64(height,width,RS_Normalize(targetBand), RS_Array(height*width,0), RS_Array(height*width, 0)) as red\",\"RS_Base64(height,width,RS_Array(height*width, 0), RS_Normalize(targetBand), RS_Array(height*width, 0)) as green\", \"RS_Base64(height,width,RS_Array(height*width, 0),  RS_Array(height*width, 0), RS_Normalize(targetBand)) as blue\",\"RS_Base64(height,width,RS_Normalize(targetBand), RS_Normalize(targetBand),RS_Normalize(targetBand)) as RGB\" )\n",
    "df_HTML = df_base64.selectExpr(\"Geom\",\"RS_HTML(red) as RedBand\",\"RS_HTML(blue) as BlueBand\",\"RS_HTML(green) as GreenBand\", \"RS_HTML(RGB) as CombinedBand\")\n",
    "df_HTML.show(5)"
   ]
  },
  {
   "cell_type": "code",
   "execution_count": 6,
   "metadata": {},
   "outputs": [
    {
     "data": {
      "text/html": [
       "<table border=\"1\" class=\"dataframe\">\n",
       "  <thead>\n",
       "    <tr style=\"text-align: right;\">\n",
       "      <th></th>\n",
       "      <th>Geom</th>\n",
       "      <th>RedBand</th>\n",
       "      <th>BlueBand</th>\n",
       "      <th>GreenBand</th>\n",
       "      <th>CombinedBand</th>\n",
       "    </tr>\n",
       "  </thead>\n",
       "  <tbody>\n",
       "    <tr>\n",
       "      <th>0</th>\n",
       "      <td>POLYGON ((-58.70271939504448 -34.41877544555479, -58.70277605822864 -34.42156988068061, -58.6994039180242 -34.42161679331493, -58.69934736692278 -34.4188223533111, -58.70271939504448 -34.41877544555479))</td>\n",
       "      <td><img src=\"data:image/png;base64,iVBORw0KGgoAAAANSUhEUgAAACAAAAAgCAYAAABzenr0AAAFGElEQVR42l2X2W4jRRSG+zVhEu9b2+6O492xE8eJE8eZZLIxZNaISZgJIAHSSGwSFyziDoRAvABPgMQVQkhDneg70q+5+F3d5aqz/Gep6qgVRW/WAhoBpYA6Y5XnWkCRNb2AecCDgIuA44A44LOAPwM+DeiwZxU5hnxAhTGPbJsvB0Td8DNCuG3eFMWTAPs/hwH7rH0d8DTgVcAQPAm4ClgieAXDDRmQR1aeeTM+Mk8GojTBkHWQsNCepwGLgK2AMc87KP084N+A31ifBRnYyPGeYy7rDMyg3wTdBuyhbChGbDCOWechM3YOAt4L+CHgb8Y6jC6g2z1eQbmPZkw0QKCN3yDQvD5BiC38ACVbGLZLOM4ZzYlDDDWvUgy9YH0snq9iQAl5kXnVJ/aWYG08WzKaUf8FfImwiSh9TSKmrG3gacJ7l3A6YwUM7GKsyYvq/DkApuAU+syrXwJ+Rukuhl7i4RAvb1nfw4AWiivInsq7OzdFftRg0Rrem0fXKJtLLhwwGp0PoX+MkHMxrgJS1hruY/AMz23/x4xRFQPWMaAhldAhicpYbAKaYJ88uY/nI+YOQULcazh1IHlygdHGXFRiUUr2uoI6yhMpTy/XAkl5g/AJtJ8z95S5GCem5NkIlgbMW9+I2igqYnEsyXOL5W1odYYasHFN/c8J4QVe7kPvkcS/Kt7vsd6cjooSN2843nZfYLW31xYe7CHoUcC3KB1TVnPibYb9HvAJ74c4c0PY1rwTZqU8huJtjNIZ1DaYT9hsNP8U8DW5cExYljBg/3/B3j6MGBtnvJeRH9UwoM2hsoGiDh65wjLvHQnBV8LSMaXoZ8s6FI/Zkye3NijjEf9FfhCZ8l959iqY8ewMXeBdD2FLsM1htC2J3JbK6dP5EvZew9ZdH0h4+J5jti5VoBWSstkzeiyn5RCP2nJ4tcmXBO/LeH6Jvl2Yjby8jkiSVDZ4Ga6jqCmJOGfOW2+duTkhahLKkZyuN+SCt2mTFXkH9JgVUe5l15OWWkP5KdS2pLdbZXwU8BJZdZiwBH0Mc6d47uxMPQm3odGbRCohiMWgEiV1Bf0Jwh5C7QmGpBjRZ/01RvYlT/w+EeUkZn678RzIEIYUI2I2/kMtr8sB06NKUmjvM59QIU9I4jNiv4UT0TtMnLGxhqdFsj9GSUYM+BEBexjYIByPGZdQ3WVcUK439IUh6za8EZmC5yRh9i3qC3KR8LVVyYkmIXguDpjCP+QU9A55AAt+Tsz9MMpB4Q5KS3KLLTCugIr0AW8s1pKfIaeJwu8CPuQ8eQAbdgT/RZseY/BdEvrGOR5k5DZbQKmHpAB923h0guEtaTZVcuAlN6lbktt6zRuS3ZP47jT0BEzw8h54F+OKCPdnv8RuwoC37AZzfqe4gglvcFa678vdsud9oAn1ejCV5Paakdiv8v8aFHblFjyRa9kaVXIp94iZMDbyS6l/oTjFNYS0RHmONR0JR4K3O8wPOScWcqy7oUO5d27JxWTT7wMl8do7lZ+SOel4QzyuSrsdEYYJJbaQLhhj4Av+78jaLS/Diijyu3pe3uuc7XXgR3NZmtNADGmzpgVLcwxYkpgDScK7HIihNCtZXJAKqMp5kJfvvRIMON2Dt9p3Kqdpm/+7GOffoHffBd5ssqKgLAlY4b3OmhpC/Cu3IA1JmcxIOVfkeu8XkSNKOXLFWel8/r4iX7P+yR7Ldc1bdl7ClqGEvXGtYsAYw/ucgs+oiP8BXnjcbWu2MEoAAAAASUVORK5CYII=\" width=\"200\"/></td>\n",
       "      <td><img src=\"data:image/png;base64,iVBORw0KGgoAAAANSUhEUgAAACAAAAAgCAYAAABzenr0AAAFHklEQVR42l2X2W4jRRSG/ZowifetbbfttPexY8exsziTTBYzBGaJSMJMAIlBGolN4oJF3IEQiBfgCZC4QgjJVDXf8fyai9/VXa46y3+Wqk4kEs1VItFwqDrkHSqMJZ7LDjnWdBzmDg8dlg4nDoHDS4c/HD51aLFnEzkeGYciYwbZfr7gkGi7nwHC/eZtUTxa/f9/GgP2WfvK4YnDC4c+eOxw5bBA8AaGeyRBBlkZ5r3xsSc9URpiyBYIWeifJw4HDmOHIc+7KP3M4R+HX1mfAknYSPOeZi5lDEyh3wu6c9hDWV+MuM84ZJ2FzLNz6PCOw/cOfzFWYPQAus3jDZTb6I2JvW/AwtcI9F6fIsQv/AAlYwybEY4LRu/EEYZ6r+oYumR9IJ5vYkAeebFXXWLvEyzCswWjN+pfhy8QNhKlr0jEOmureBry3iacxlgWA9sY6+XFdFVhoIeCM+jzXv3s8BNKZxh6iYd9vLxjfQcDmiguInsi7+bcBPnxgipWRnh0g7K55MIho6fzEfQPEXIhxhVBnbUeDzB4iud+/8eMcZJUER7xbJXQIokKWOwF1MA+efIAzwfMHYGQuJdx6lDyZInRnrk4GcpYXBEFFZSHUp5WrlmS8hbhI2i/YO4JcwFOTMizASz1mPd9I/a6ROzSbLLkucPyCFqNoSps3FD/c0K4xMt96D2W+JfE+z3We6djxRY3azjWdq+x2tprEw/2EPSewzcoHVJWc+LtDfvN4RPej3DmlrA1rBOmpDz64m2A0inUVpkP2exp/tHhK3LhhLAsYMD//zl7uzDi2TjnvYD8+CeL4pfQVMTrsSgs8N6SEHwpLJ1Qina2bEHxkD0Zcus+ZTzgv/VB5JX/wrNVwZRnY2iJdx2ELcAOh9GOJHIkldOl84XsvYGtuA+EPHzHMVuRKtAKqbPZMnoop2UfjyI5vCLyJcT7Ap5fom8Gs+vyOiZJ6rLBynALRTVJxDlz1norzM0JUY1QDuR0vSUXrE17WesOaDHLodzKriMttYzyM6htSm/3lfGRw3NkVWDCJ+j7MHeG58bOxJJwBxqtSdQlBIEYlKekrqA/RNgjqD3FkDpGdFl/g5FdyRO7T6ybTyS3G8uBJGGoY0TAxr+p5S05YDpUSR3au8yHVMhjkvic2I9xIvEWE+dsLONpjuwPUJIUA35AwN7q9VnShOomlTHDgBmeXpMDFzjZpCTjRuQVPCMJU29Qn5WLhK0tSU7UCMEzccAr/F1OQeuQh7Bg58TcDqM0FO6iNC+32CzjBihKH7DG4lvyU+TUUPitw4ecJw9hwx/Bf9KmhxgcW2wb53iQlNtsFqUWkiz07eDRKYY3pdmUyIHn3KTuSG7fa1YkuyVxnHyWgCFe3gNvY1xu9ZqpnFxit2HAWnaVObtTXMGENThfuu/K3bJjfaAG9Xow5eX2mpTYb/J/AwrbcgseybWsQZVcyj1iKowN7FJqXyhGcRkhTVGeZk1LwhHi7S7zfc6JAznWzdC+3DvHcjHZtvtAXry2TmWnZFo6Xh+PS9JuB4RhRIkdSBcMMPCa/1uydmxlWBRFdlfPyHuFs70C7GguSHPqiSERa5qwNMeABYnZkySMcyCA0pRkcVYqoCTnQUa+9/IwYHT33mjfdTlNI/5vY5x9g8bfBdZsUqKgIAlY5L3CmjJC7Cs3Kw1JmUxKORflem8XkWNKea04JZ3P3jfka9Y+2QO5rlnLzkjYkpSwNa5NDBhieJdT8GlcEf8BnfrcbeQzXygAAAAASUVORK5CYII=\" width=\"200\"/></td>\n",
       "      <td><img src=\"data:image/png;base64,iVBORw0KGgoAAAANSUhEUgAAACAAAAAgCAYAAABzenr0AAAFGElEQVR42l2X2W4jRRSG/ZpA4i3euu1uO+09duw4ceI4k0w2hswaMQlDAIlBGolN4oJF3IEQiBfgCZC4QghpqGq+Y/2ai9/VXa46y3+Wqs5kWpnXmaZD3aHkEDJWea45bLCm6zB3uO9w6XDiEDi8dPjD4VOHNnvWkeNRcKgwFpDt58sOmY77GSLcb94WxWMH/38eAw5Y+8rhicOHDgPw2OHaYYngNQz3yIICsgrMe+NTT/qiNMKQTRCx0D9PHRYOE4cRz7so/czhH4dfWZ8DWdjI855nLmcMzKDfC7pz2EfZQIzYYhyxzkLm2Tl0eNfhe4e/GEMYXUC3ebyGchu9Man3TVj4GoHe61OE+IXvo2SCYXuE44LRO3GEod6rGEMvWR+I5+sYUEJe6lWP2PsES/BsyeiN+tfhC4SNRekrEjFmbR1PI947hNMYK2JgB2O9vJSuOgz0UXAGfd6rnx1+Qukehl7h4QAv71jfxYAWiivInsq7OTdFfrqgjpUJHt2gbC65cMjo6XwA/SOEXIhxFRCz1uMeBs/w3O//mDFNkjrCE56tEtokURmLvYAGOCBP7uH5kLkjEBH3Gk4dSp5cYrRnLk2GGhaHoiBEeSTlaeVaJClvET6G9gvmnjAX4MSUPBvCUp953zdSr6vELs8mS547LE+g1Riqw8YN9T8nhJd4eQC9xxL/qni/z3rvdKrY4mYNx9ruc6y29trCg30EPXT4BqUjympOvL1hvzl8wvsRztwStqZ1wpyUx0C8DVA6g9o68xGbPc0/OnxFLpwQliUM+P8/Z28PRjwb57yXkZ/+FFH8EpoqeD0RhWXe2xKCL4WlE0rRzpZNKB6xp0BubVHGQ/5bHURe+S88WxXMeDaGLvGui7Al2OEw2pFETqRyenS+iL03sJX2gYiH7zhmQ6kCrZCYzZbRIzktB3iUyOGVkC8R3pfx/Ap9ezC7Kq9jkiSWDVaGmyhqSCLOmbPWGzI3J0QNQjmU0/WWXLA27WWtOqDFbAPlVnZdaak1lJ9BbUt6u6+MjxxeICuECZ+gj2DuDM+Nnakl4Q40WpOIJQSBGFSipK6hP0LYA6g9xZAYI3qsv8HInuSJ3SdWzSeR243lQJYwxBgRsPFvanlTDpguVRJDe4/5iAp5TBKfE/sJTmTeYuKcjTU83SD7A5RkxYAfELCPgXXC8YhxCdUdxgXlektfGLBuyxqRV/CMJMy9QX1RLhK2tio50SAEz8QBr/B3OQWtQx7Cgp0TczuM8lC4i9KS3GKLjGugIn3AGotvyU+R00Dhtw4fcJ7chw1/BP9Jmx5hcGqxbZzjQVZus0WUWkiK0LeDR6cY3pJmUyUHXnCTuiO5fa95TbJbEqfJZwkY4eU74G2M20C4PdsldhsGrGXXmbM7xTVMWIPzpfue3C271gcaUK8HU0lur1mJ/Tr/N6GwI7fgsVzLmlTJldwjZsLY0C6l9oViFNcQ0hLleda0JRwR3u4yP+CcWMixboYO5N45kYvJtt0HSuK1dSo7JfPS8QZ4XJV2OyQMY0psIV0wwMDn/N+WtRMrw4oosrt6Qd5DzvYQ2NFclubUF0MS1rRgaY4BSxKzL0mY5kAApTnJ4qJUQFXOg4J875VgwOjuv9G+YzlNE/7vYJx9g6bfBdZscqKgLAlY4T1kTQ0h9pVblIakTGalnCtyvbeLyDGlvFKck85n72vyNWuf7IFc16xlFyRsWUrYGtc6BowwvMcp+PT/ivgPfjncbZ0NSCIAAAAASUVORK5CYII=\" width=\"200\"/></td>\n",
       "      <td><img src=\"data:image/png;base64,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\" width=\"200\"/></td>\n",
       "    </tr>\n",
       "    <tr>\n",
       "      <th>1</th>\n",
       "      <td>POLYGON ((-58.28663657626114 -34.75858090620287, -58.28667994174946 -34.76137571668496, -58.28329340123002 -34.76141146033393, -58.28325014980316 -34.75861664615162, -58.28663657626114 -34.75858090620287))</td>\n",
       "      <td><img src=\"data:image/png;base64,iVBORw0KGgoAAAANSUhEUgAAACAAAAAgCAYAAABzenr0AAAE+UlEQVR42l2XS4/bVBTH/R0p08nDieOx4zhO7LxfM5lH0xnoY9qhtKgMagEJVd0hIbaw4FuwR2zY8QXKvdHvoL+yOLF977nn/M/7JoiD4FPHUelo4Shx9NBR31HlqO3I8zQcHTtqOooctXgv2D9iP2Yt4sxDqIGsnaO/HL1ylDsKUgCkgMgR3GYtFiFeQR3lkfCMHPXg9We7Yog/EwIgRMczzpx4AP5n4miA1TnUEvKHP3P0AEsNkFc0dnTr6AVgauyF4oUO3976P7De8w49gDkAEhDFAEhBn/B+JACOAeQ9cO7oFMtCeI4B0YLfQNw7+hUA3uAbDUEf97UAMCGWU/bash/KM5LnhLMNqH4QzgGhWiDXey2owdjHpRFCvGc2vO842IGarPd4t7y44MwRngxRHuKVGmcGhO65B9AWt7YlYRJJru9BPSBMXSxKAWDVkVI5XQlhjb0HAtzH/tLR0gMw90coq1ASAcIrnQGmQEiIoEsUhch44ugd6wXeiiVELXl2eO6rYImCGKWmPMeaEGpK/Gckk5WpD9lvJNkYK/3ZDM+ecL7HehsQQUOSIxX35Rxu8d2WRhMjcA74JoCv+O5LTiUSVkvAgrwpLQS5CLYMTcWFJ7y3xSM3lGAqyZkgtMCjFZWxQ8YQXY/Y84YHFvMxzBNJNhPcEOVTsvd3R3dYOuJMxdoWXmtkI/gyzr/k2wMOTlFawVBKG63zrOGJES5+Q7L5sltxNmbvDDkNUewBf8H3l46eAngfgh0uy6TEOjxj4v651HBf8mPIM4I3AnQX3g+OHlMd91THCi9UvAdPD3p/nxgN+Y5RXiMMBR4zb20kq+usbzBiwXuFB7YkagXAPYAt2WzdbO3oPcibUgl1hNrhkCT8kSRL4FlydghAa8FzIWvzPu+CM4aJ3QtyevQ76YSWQLF894jnPbSVZF4BIJHEXcu4r9j38oOWxD4D4Tkze8PaiIR7xmErSevpOxrTBda1Dqqqi+IR6zk6UxtGTVBnUvs2Cae49Dmd75Z45gJkwvoV/JG4fUK4xsjv8azMA9bF1jJwBoDIxK2JxDCTLLYJWiA8l6a0xIs+ZG+l3Q+lIoK2WG2TqkBxLoOjiTAD6PPkJ0B34C+poK3U+QyQp8heozyzJKwRC8uDhQwQ84J1xqk0oz8ZPGvWrCzfEoou56x1m5xLkjdEXhBhQQHaO4TWULqQvrAiF/z3z46u8coU3jpWjQHxNQn9LXwpHrWq8PqCOhu+lP5x9AnLSsneW7qZ3ZIsTHP2S7mKG88KAE9I3hJgc97/L8MOWf6Do38d/e3oF+JoGfsIgHbY6tgsusIiu0dkALKcWRA2f/61o49M0/2NaALjGKQbGZsFw2WAkjO5UNgdIWK4rKV6bOicIudMKuYcj64BtAcwlvE4AYD9WZkheEkjuibeNlozUWButfhOpR/Yv65ELrjegMAODrHmPeEYyZ8Hq/9XJFQugDNK8pq1sXTLvsixW9cNHdOaXnDBgYQZ7pPmO1xVYfmS9x1dsDzwggf1jbh/IbPjDlARe48Jj3XM/X1gKr0gw31Dqe2QsrS/bzamS+p6Q7x7cp3vy8TcwW994Ct49n9Ob2EYybA4QYnd6w1AS27NFoZrKqbEEFufyZ+QFbKtkc0Iqc+d4CUuGZEU9qfzBehDudVad+zK6F5i/ZQELg9u1QZ4S3gXGGkt+j+ETrY0fwAAjQAAAABJRU5ErkJggg==\" width=\"200\"/></td>\n",
       "      <td><img src=\"data:image/png;base64,iVBORw0KGgoAAAANSUhEUgAAACAAAAAgCAYAAABzenr0AAAE/ElEQVR42l2XyXLcVBSG+x0JjntQS62WWq0epJ4nu2M7HZuExCEJQwVTCVBFUeyootjCgrdgT7FhxwuYe5XvmL+8OC3p3jP8Z7y3a7VafFurdRwVjlaOEkcPHQ0clY7C2w88TUfHjlqOIkdt3ofsH7EfsxYh8xBqouvg6C9HbxzljmopAFJA5CgOWYtFiTfQwHgkPBNHfXi9bE8c8TIBAAJsPEem6wH4n5mjEV7nUFvIC3/k6AGeGiBvaOro2tFLwNTZCyQKHb6993/gvecdewBLACQgigGQgj7h/UgAHAPIR+CRoxM8C+A5BkQbfgNx4+hXAHiHrzQFA8LXBsCMXM7ZC2U/kGckzxmyTahxL50jUrVCr49aFbIGRnoo8kp8ZHa8HxDsQC3W+7xbXZwhc0QkA4wHRKWOzIjUvfAAQglrKAWTSHF9C+oRaerhUQoA646UzulJCuvsPRDgPvfnjtYegIU/wliJkQgQ3ugCMEOUBCg6x1CAjmeO3rE+JFqxpKgtzw7PytgaAzFGzXiONwHUkvwvKCZrU5+y3yiyKV562YzIdpHvsx4Cogq3FUcq4csRbvMdyqCJUbgEfAvAF3wPpKYSSasV4JC6KSwFuSi2Ck0lhF3eQ4nIFS2YSnEmKB0S0ZLOOKBjjK3H7HnH73I+hXkmxWaKm2J8TvX+7ugVnk6QKVnbw2uDbAJfhvxnfHvA1RCZIZzhgY3RBs86kZgQ4i8pNt92G2Rj9k7R0xTDHvAnfD919CmAqxQcCFkmLdbhGZP3j6WHB1IfY54RvBGge/D+6OgJ3XFDd2yIQsl7hUZn/4AcjfmOMV4nDUMiZtHaSVU3WN/hxIr3kgjsKdQSgBWAPdVs02zr6D3IW9IJDZSacEARfk+RJfCskR0D0EbwUsjGvK+7Kmcnt//fC3Jm9DuZhFZAsXz3yecNtJdi3gAgkcLdynFfsu/1V951ZWgs8ew54ctgPGOtlJa0mX5gMJ3hXfteV/UwPGE9x2Zqh1EL1Jn0vp2Ec0L6gsl3TT5zATJj/QL+SMI+I11T9Pd5lhYBm2JbOXBGgMgkrInkMJMqthN0iPJchtKaKPqUvZVxP5aOuJvJsZxUQwzncnC0UGYAfZ38AOgO/AUdtJc+XwDyBN1bjGdWhHVyYXWwkgPEomCTcS7D6E8Oni1r1pZvSUUPORvdpuec4g3QV4Wvg9cLRumWvu8CyObChlrw3z87uiQqc3gbeDUFxOcU9NfwpUTUusLbq4RSWukfR7d4Vkj1XjPN7JZkaVqyX8hV3Hg2AHhG8RYAW/J+14Ydqvw7R/86+tvRL+TRKvYxAE3Y+tg8usAju0dkALKaWZE2L/+Fo584Tasb0QzGKUh3cmwOOVxGGDmVC4XdESIOl610jx06J+g5lY55RES3AKoATOV4nAHA/qwsULxmEF2SbztaMzFgYbX8zmUe2L+uRC643oE7wTHevCcdE/nzYP3/hoLKBXBGS16yNpVpORA9duu6YmLa0Ks+SpQ1KZpvCFWJ52veD0zB4l4UPKivJPwrOTteASpi7wnpsYlZKZ3LLMgI31h6O6At7e+bHdMFfb0j3325zg/kxDzAb3PgNTzVn9NrGCZyWHQxYvd6A9CWW7Ol4ZKOKXDE1hfyJ2SDbhtkC1Lqa6e6nz1lI5Q/nS9BH8it1qZjT47uNd7PKeDi3q3aAO9J7wonP4zo/wAQUbY0YC8pHQAAAABJRU5ErkJggg==\" width=\"200\"/></td>\n",
       "      <td><img src=\"data:image/png;base64,iVBORw0KGgoAAAANSUhEUgAAACAAAAAgCAYAAABzenr0AAAE+ElEQVR42l2XyW7bVhSG9Y5NHWugSFGkKGogNU+2YjuK3aSJ3SQdkLpomgBFkF2Bott20bfovuimu75Aei/xHeOHF0ck7z3Df8Z7VavFtU+1jqPC0cpR4uiho4Gj0lHoyPM0HR07ajmKHLV5H7J/xH7MWoTMQ6iJroOjvx29dpQ7qqUASAGRozhkLRYl3kAD45HwTBz14fWyPXHEywQACLDxHJmuB+B/Zo5GeJ1DbSEv/JmjB3hqgLyhqaNrRzeAqbMXSBQ6fHvv/8R7zzv2AJYASEAUAyAFfcL7kQA4BpCPwCNHJ3gWwHMMiDb8BuLW0W8A8A5faQoGhK8NgBm5nLMXyn4gz0ieM2SbUONeOkekaoVeH7UqZA2M9FDklfjI7Hg/INiBWqz3ebe6OEPmiEgGGA+ISh2ZEal74QGEEtZQCiaR4voJ1CPS1MOjFADWHSmd05MU1tl7IMB97s8drT0AC3+EsRIjESC80QVghigJUHSOoQAdzxz9yPqQaMWSorY8OzwrY2sMxBg14zneBFBL8r+gmKxNfcp+p8imeOllMyLbRb7PegiIKtxWHKmEL0e4zXcogyZG4RLwLQBf8D2QmkokrVaAQ+qmsBTkotgqNJUQdnkPJSJXtGAqxZmgdEhESzrjgI4xth6z5x2/y/kU5pkUmyluivE51fuHo5d4OkGmZG0Prw2yCXwZ8l/x7QFXQ2SGcIYHNkYbPOtEYkKIv6XYfNttkI3ZO0VPUwx7wF/w/dTRlwCuUnAgZJm0WIdnTN4/lx4eSH2MeUbwRoDuwfvB0RO645bu2BCFkvcKjc7+ATka8x1jvE4ahkTMorWTqm6wvsOJFe8lEdhTqCUAKwB7qtmm2dbRW5C3pBMaKDXhgCJ8T5El8KyRHQPQRvBSyMa8r7sqZyd4ah1xQ44nEvYMHvvuk89baC/FvAFAIoW7leO+ZN/rr7zrytBY4tlzwpfBeMZaKS1pM/3AYDrDu/a9rupheMJ6js3UDqMWqDPpfTsJ54T0BZPvmnzmAmTG+gX8kYR9Rrqm6O/zLC0CNsW2cuCMAJFJWBPJYSZVbCfoEOW5DKU1UfQpeyPjfiwdcTeTYzmphhjO5eBoocwA+jr5GdAd+As6aC99vgDkCbq3GM+sCOvkwupgJQeIRcEm41yG0V8cPFvWrC3fkIoecja6Tc85xRugrwpfB68XjNItfd8FkM2FDbXgv39xdElU5vA28GoKiK8p6O/hS4modYW3VwmltNK/jj7hWSHVe800s1uSpWnJfiFXcePZAOAZxVsAbMn7XRt2qPJ3jv5z9I+jX8mjVexjAJqw9bF5dIFHdo/IAGQ1syJtXv4bRx85Tasb0QzGKUh3cmwOOVxGGDmVC4XdESIOl610jx06J+g5lY55RES3AKoATOV4nAHA/qwsULxmEF2SbztaMzFgYbX8zmUe2L+uRC643oE7wTHevCUdE/nzYP3/moLKBXBGS16yNpVpORA9duu6YmLa0Ks+SpQ1KZofCFWJ52veD0zB4l4UPKjvJPwrOTteAipi7wnpsYlZKZ3LLMgI31h6O6At7e+bHdMFfb0j3325zg/kxDzAb3PgFTzVn9NrGCZyWHQxYvd6A9CWW7Ol4ZKOKXDE1hfyJ2SDbhtkC1Lqa6e6nz1lI5Q/nTegD+RWa9OxJ0f3Gu/nFHBx71ZtgPekd4WTjOj/AcpItjQjztX+AAAAAElFTkSuQmCC\" width=\"200\"/></td>\n",
       "      <td><img src=\"data:image/png;base64,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\" width=\"200\"/></td>\n",
       "    </tr>\n",
       "  </tbody>\n",
       "</table>"
      ],
      "text/plain": [
       "<IPython.core.display.HTML object>"
      ]
     },
     "metadata": {},
     "output_type": "display_data"
    }
   ],
   "source": [
    "display(HTML(df_HTML.limit(2).toPandas().to_html(escape=False)))"
   ]
  },
  {
   "cell_type": "markdown",
   "metadata": {},
   "source": [
    "# User can also create some UDF manually to manipulate Geotiff dataframes"
   ]
  },
  {
   "cell_type": "code",
   "execution_count": 7,
   "metadata": {},
   "outputs": [
    {
     "name": "stdout",
     "output_type": "stream",
     "text": [
      "+------+\n",
      "|   sum|\n",
      "+------+\n",
      "| 753.0|\n",
      "|1017.0|\n",
      "+------+\n",
      "\n"
     ]
    }
   ],
   "source": [
    "''' Sample UDF calculates sum of all the values in a band which are greater than 1000.0 '''\n",
    "\n",
    "def SumOfValues(band):\n",
    "    total = 0.0\n",
    "    for num in band:\n",
    "        if num>1000.0:\n",
    "            total+=1\n",
    "    return total\n",
    "    \n",
    "calculateSum = udf(SumOfValues, DoubleType())\n",
    "spark.udf.register(\"RS_Sum\", calculateSum)\n",
    "\n",
    "sumDF = df.selectExpr(\"RS_Sum(targetband) as sum\")\n",
    "sumDF.show()"
   ]
  },
  {
   "cell_type": "code",
   "execution_count": 8,
   "metadata": {},
   "outputs": [
    {
     "data": {
      "text/plain": [
       "<function __main__.generatemask(band, width, height)>"
      ]
     },
     "execution_count": 8,
     "metadata": {},
     "output_type": "execute_result"
    }
   ],
   "source": [
    "''' Sample UDF to visualize a particular region of a GeoTiff image'''\n",
    "\n",
    "def generatemask(band, width,height):\n",
    "    for (i,val) in enumerate(band):\n",
    "        if (i%width>=12 and i%width<26) and (i%height>=12 and i%height<26):\n",
    "            band[i] = 255.0\n",
    "        else:\n",
    "            band[i] = 0.0\n",
    "    return band\n",
    "\n",
    "maskValues = udf(generatemask, ArrayType(DoubleType()))\n",
    "spark.udf.register(\"RS_MaskValues\", maskValues)"
   ]
  },
  {
   "cell_type": "code",
   "execution_count": 14,
   "metadata": {},
   "outputs": [
    {
     "ename": "Py4JJavaError",
     "evalue": "An error occurred while calling o185.collectToPython.\n: org.apache.spark.SparkException: Job aborted due to stage failure: Task 0 in stage 14.0 failed 1 times, most recent failure: Lost task 0.0 in stage 14.0 (TID 14) (hp-HP-Pavilion-Gaming-Laptop-15-dk0xxx executor driver): java.lang.ClassCastException: java.lang.Integer cannot be cast to org.apache.spark.sql.catalyst.util.GenericArrayData\n\tat org.apache.spark.sql.sedona_sql.expressions.raster.RS_Base64.eval(IO.scala:175)\n\tat org.apache.spark.sql.sedona_sql.expressions.raster.RS_HTML.eval(IO.scala:242)\n\tat org.apache.spark.sql.catalyst.expressions.GeneratedClass$SpecificUnsafeProjection.apply(Unknown Source)\n\tat org.apache.spark.sql.catalyst.expressions.GeneratedClass$SpecificUnsafeProjection.apply(Unknown Source)\n\tat scala.collection.Iterator$$anon$10.next(Iterator.scala:459)\n\tat org.apache.spark.sql.execution.SparkPlan.$anonfun$getByteArrayRdd$1(SparkPlan.scala:346)\n\tat org.apache.spark.rdd.RDD.$anonfun$mapPartitionsInternal$2(RDD.scala:898)\n\tat org.apache.spark.rdd.RDD.$anonfun$mapPartitionsInternal$2$adapted(RDD.scala:898)\n\tat org.apache.spark.rdd.MapPartitionsRDD.compute(MapPartitionsRDD.scala:52)\n\tat org.apache.spark.rdd.RDD.computeOrReadCheckpoint(RDD.scala:373)\n\tat org.apache.spark.rdd.RDD.iterator(RDD.scala:337)\n\tat org.apache.spark.scheduler.ResultTask.runTask(ResultTask.scala:90)\n\tat org.apache.spark.scheduler.Task.run(Task.scala:131)\n\tat org.apache.spark.executor.Executor$TaskRunner.$anonfun$run$3(Executor.scala:497)\n\tat org.apache.spark.util.Utils$.tryWithSafeFinally(Utils.scala:1439)\n\tat org.apache.spark.executor.Executor$TaskRunner.run(Executor.scala:500)\n\tat java.util.concurrent.ThreadPoolExecutor.runWorker(ThreadPoolExecutor.java:1149)\n\tat java.util.concurrent.ThreadPoolExecutor$Worker.run(ThreadPoolExecutor.java:624)\n\tat java.lang.Thread.run(Thread.java:748)\n\nDriver stacktrace:\n\tat org.apache.spark.scheduler.DAGScheduler.failJobAndIndependentStages(DAGScheduler.scala:2253)\n\tat org.apache.spark.scheduler.DAGScheduler.$anonfun$abortStage$2(DAGScheduler.scala:2202)\n\tat org.apache.spark.scheduler.DAGScheduler.$anonfun$abortStage$2$adapted(DAGScheduler.scala:2201)\n\tat scala.collection.mutable.ResizableArray.foreach(ResizableArray.scala:62)\n\tat scala.collection.mutable.ResizableArray.foreach$(ResizableArray.scala:55)\n\tat scala.collection.mutable.ArrayBuffer.foreach(ArrayBuffer.scala:49)\n\tat org.apache.spark.scheduler.DAGScheduler.abortStage(DAGScheduler.scala:2201)\n\tat org.apache.spark.scheduler.DAGScheduler.$anonfun$handleTaskSetFailed$1(DAGScheduler.scala:1078)\n\tat org.apache.spark.scheduler.DAGScheduler.$anonfun$handleTaskSetFailed$1$adapted(DAGScheduler.scala:1078)\n\tat scala.Option.foreach(Option.scala:407)\n\tat org.apache.spark.scheduler.DAGScheduler.handleTaskSetFailed(DAGScheduler.scala:1078)\n\tat org.apache.spark.scheduler.DAGSchedulerEventProcessLoop.doOnReceive(DAGScheduler.scala:2440)\n\tat org.apache.spark.scheduler.DAGSchedulerEventProcessLoop.onReceive(DAGScheduler.scala:2382)\n\tat org.apache.spark.scheduler.DAGSchedulerEventProcessLoop.onReceive(DAGScheduler.scala:2371)\n\tat org.apache.spark.util.EventLoop$$anon$1.run(EventLoop.scala:49)\n\tat org.apache.spark.scheduler.DAGScheduler.runJob(DAGScheduler.scala:868)\n\tat org.apache.spark.SparkContext.runJob(SparkContext.scala:2202)\n\tat org.apache.spark.SparkContext.runJob(SparkContext.scala:2223)\n\tat org.apache.spark.SparkContext.runJob(SparkContext.scala:2242)\n\tat org.apache.spark.sql.execution.SparkPlan.executeTake(SparkPlan.scala:472)\n\tat org.apache.spark.sql.execution.SparkPlan.executeTake(SparkPlan.scala:425)\n\tat org.apache.spark.sql.execution.CollectLimitExec.executeCollect(limit.scala:47)\n\tat org.apache.spark.sql.Dataset.$anonfun$collectToPython$1(Dataset.scala:3519)\n\tat org.apache.spark.sql.Dataset.$anonfun$withAction$1(Dataset.scala:3687)\n\tat org.apache.spark.sql.execution.SQLExecution$.$anonfun$withNewExecutionId$5(SQLExecution.scala:103)\n\tat org.apache.spark.sql.execution.SQLExecution$.withSQLConfPropagated(SQLExecution.scala:163)\n\tat org.apache.spark.sql.execution.SQLExecution$.$anonfun$withNewExecutionId$1(SQLExecution.scala:90)\n\tat org.apache.spark.sql.SparkSession.withActive(SparkSession.scala:772)\n\tat org.apache.spark.sql.execution.SQLExecution$.withNewExecutionId(SQLExecution.scala:64)\n\tat org.apache.spark.sql.Dataset.withAction(Dataset.scala:3685)\n\tat org.apache.spark.sql.Dataset.collectToPython(Dataset.scala:3516)\n\tat sun.reflect.NativeMethodAccessorImpl.invoke0(Native Method)\n\tat sun.reflect.NativeMethodAccessorImpl.invoke(NativeMethodAccessorImpl.java:62)\n\tat sun.reflect.DelegatingMethodAccessorImpl.invoke(DelegatingMethodAccessorImpl.java:43)\n\tat java.lang.reflect.Method.invoke(Method.java:498)\n\tat py4j.reflection.MethodInvoker.invoke(MethodInvoker.java:244)\n\tat py4j.reflection.ReflectionEngine.invoke(ReflectionEngine.java:357)\n\tat py4j.Gateway.invoke(Gateway.java:282)\n\tat py4j.commands.AbstractCommand.invokeMethod(AbstractCommand.java:132)\n\tat py4j.commands.CallCommand.execute(CallCommand.java:79)\n\tat py4j.GatewayConnection.run(GatewayConnection.java:238)\n\tat java.lang.Thread.run(Thread.java:748)\nCaused by: java.lang.ClassCastException: java.lang.Integer cannot be cast to org.apache.spark.sql.catalyst.util.GenericArrayData\n\tat org.apache.spark.sql.sedona_sql.expressions.raster.RS_Base64.eval(IO.scala:175)\n\tat org.apache.spark.sql.sedona_sql.expressions.raster.RS_HTML.eval(IO.scala:242)\n\tat org.apache.spark.sql.catalyst.expressions.GeneratedClass$SpecificUnsafeProjection.apply(Unknown Source)\n\tat org.apache.spark.sql.catalyst.expressions.GeneratedClass$SpecificUnsafeProjection.apply(Unknown Source)\n\tat scala.collection.Iterator$$anon$10.next(Iterator.scala:459)\n\tat org.apache.spark.sql.execution.SparkPlan.$anonfun$getByteArrayRdd$1(SparkPlan.scala:346)\n\tat org.apache.spark.rdd.RDD.$anonfun$mapPartitionsInternal$2(RDD.scala:898)\n\tat org.apache.spark.rdd.RDD.$anonfun$mapPartitionsInternal$2$adapted(RDD.scala:898)\n\tat org.apache.spark.rdd.MapPartitionsRDD.compute(MapPartitionsRDD.scala:52)\n\tat org.apache.spark.rdd.RDD.computeOrReadCheckpoint(RDD.scala:373)\n\tat org.apache.spark.rdd.RDD.iterator(RDD.scala:337)\n\tat org.apache.spark.scheduler.ResultTask.runTask(ResultTask.scala:90)\n\tat org.apache.spark.scheduler.Task.run(Task.scala:131)\n\tat org.apache.spark.executor.Executor$TaskRunner.$anonfun$run$3(Executor.scala:497)\n\tat org.apache.spark.util.Utils$.tryWithSafeFinally(Utils.scala:1439)\n\tat org.apache.spark.executor.Executor$TaskRunner.run(Executor.scala:500)\n\tat java.util.concurrent.ThreadPoolExecutor.runWorker(ThreadPoolExecutor.java:1149)\n\tat java.util.concurrent.ThreadPoolExecutor$Worker.run(ThreadPoolExecutor.java:624)\n\t... 1 more\n",
     "output_type": "error",
     "traceback": [
      "\u001b[0;31m---------------------------------------------------------------------------\u001b[0m",
      "\u001b[0;31mPy4JJavaError\u001b[0m                             Traceback (most recent call last)",
      "\u001b[0;32m<ipython-input-14-ed683d9749ac>\u001b[0m in \u001b[0;36m<module>\u001b[0;34m\u001b[0m\n\u001b[1;32m      1\u001b[0m \u001b[0mdf_base64\u001b[0m \u001b[0;34m=\u001b[0m \u001b[0mdf\u001b[0m\u001b[0;34m.\u001b[0m\u001b[0mselectExpr\u001b[0m\u001b[0;34m(\u001b[0m\u001b[0;34m\"Geom\"\u001b[0m\u001b[0;34m,\u001b[0m \u001b[0;34m\"RS_Base64(height,width,RS_Normalize(targetband), RS_Array(height*width,0), RS_Array(height*width, 0), RS_Array(height*width, 255)) as region\"\u001b[0m \u001b[0;34m)\u001b[0m\u001b[0;34m\u001b[0m\u001b[0;34m\u001b[0m\u001b[0m\n\u001b[1;32m      2\u001b[0m \u001b[0mdf_HTML\u001b[0m \u001b[0;34m=\u001b[0m \u001b[0mdf_base64\u001b[0m\u001b[0;34m.\u001b[0m\u001b[0mselectExpr\u001b[0m\u001b[0;34m(\u001b[0m\u001b[0;34m\"Geom\"\u001b[0m\u001b[0;34m,\u001b[0m\u001b[0;34m\"RS_HTML(region) as selectedregion\"\u001b[0m\u001b[0;34m)\u001b[0m\u001b[0;34m\u001b[0m\u001b[0;34m\u001b[0m\u001b[0m\n\u001b[0;32m----> 3\u001b[0;31m \u001b[0mdisplay\u001b[0m\u001b[0;34m(\u001b[0m\u001b[0mHTML\u001b[0m\u001b[0;34m(\u001b[0m\u001b[0mdf_HTML\u001b[0m\u001b[0;34m.\u001b[0m\u001b[0mlimit\u001b[0m\u001b[0;34m(\u001b[0m\u001b[0;36m2\u001b[0m\u001b[0;34m)\u001b[0m\u001b[0;34m.\u001b[0m\u001b[0mtoPandas\u001b[0m\u001b[0;34m(\u001b[0m\u001b[0;34m)\u001b[0m\u001b[0;34m.\u001b[0m\u001b[0mto_html\u001b[0m\u001b[0;34m(\u001b[0m\u001b[0mescape\u001b[0m\u001b[0;34m=\u001b[0m\u001b[0;32mFalse\u001b[0m\u001b[0;34m)\u001b[0m\u001b[0;34m)\u001b[0m\u001b[0;34m)\u001b[0m\u001b[0;34m\u001b[0m\u001b[0;34m\u001b[0m\u001b[0m\n\u001b[0m",
      "\u001b[0;32m/usr/local/spark-3.1.1-bin-hadoop2.7/python/pyspark/sql/pandas/conversion.py\u001b[0m in \u001b[0;36mtoPandas\u001b[0;34m(self)\u001b[0m\n\u001b[1;32m    139\u001b[0m \u001b[0;34m\u001b[0m\u001b[0m\n\u001b[1;32m    140\u001b[0m         \u001b[0;31m# Below is toPandas without Arrow optimization.\u001b[0m\u001b[0;34m\u001b[0m\u001b[0;34m\u001b[0m\u001b[0;34m\u001b[0m\u001b[0m\n\u001b[0;32m--> 141\u001b[0;31m         \u001b[0mpdf\u001b[0m \u001b[0;34m=\u001b[0m \u001b[0mpd\u001b[0m\u001b[0;34m.\u001b[0m\u001b[0mDataFrame\u001b[0m\u001b[0;34m.\u001b[0m\u001b[0mfrom_records\u001b[0m\u001b[0;34m(\u001b[0m\u001b[0mself\u001b[0m\u001b[0;34m.\u001b[0m\u001b[0mcollect\u001b[0m\u001b[0;34m(\u001b[0m\u001b[0;34m)\u001b[0m\u001b[0;34m,\u001b[0m \u001b[0mcolumns\u001b[0m\u001b[0;34m=\u001b[0m\u001b[0mself\u001b[0m\u001b[0;34m.\u001b[0m\u001b[0mcolumns\u001b[0m\u001b[0;34m)\u001b[0m\u001b[0;34m\u001b[0m\u001b[0;34m\u001b[0m\u001b[0m\n\u001b[0m\u001b[1;32m    142\u001b[0m         \u001b[0mcolumn_counter\u001b[0m \u001b[0;34m=\u001b[0m \u001b[0mCounter\u001b[0m\u001b[0;34m(\u001b[0m\u001b[0mself\u001b[0m\u001b[0;34m.\u001b[0m\u001b[0mcolumns\u001b[0m\u001b[0;34m)\u001b[0m\u001b[0;34m\u001b[0m\u001b[0;34m\u001b[0m\u001b[0m\n\u001b[1;32m    143\u001b[0m \u001b[0;34m\u001b[0m\u001b[0m\n",
      "\u001b[0;32m/usr/local/spark-3.1.1-bin-hadoop2.7/python/pyspark/sql/dataframe.py\u001b[0m in \u001b[0;36mcollect\u001b[0;34m(self)\u001b[0m\n\u001b[1;32m    675\u001b[0m         \"\"\"\n\u001b[1;32m    676\u001b[0m         \u001b[0;32mwith\u001b[0m \u001b[0mSCCallSiteSync\u001b[0m\u001b[0;34m(\u001b[0m\u001b[0mself\u001b[0m\u001b[0;34m.\u001b[0m\u001b[0m_sc\u001b[0m\u001b[0;34m)\u001b[0m \u001b[0;32mas\u001b[0m \u001b[0mcss\u001b[0m\u001b[0;34m:\u001b[0m\u001b[0;34m\u001b[0m\u001b[0;34m\u001b[0m\u001b[0m\n\u001b[0;32m--> 677\u001b[0;31m             \u001b[0msock_info\u001b[0m \u001b[0;34m=\u001b[0m \u001b[0mself\u001b[0m\u001b[0;34m.\u001b[0m\u001b[0m_jdf\u001b[0m\u001b[0;34m.\u001b[0m\u001b[0mcollectToPython\u001b[0m\u001b[0;34m(\u001b[0m\u001b[0;34m)\u001b[0m\u001b[0;34m\u001b[0m\u001b[0;34m\u001b[0m\u001b[0m\n\u001b[0m\u001b[1;32m    678\u001b[0m         \u001b[0;32mreturn\u001b[0m \u001b[0mlist\u001b[0m\u001b[0;34m(\u001b[0m\u001b[0m_load_from_socket\u001b[0m\u001b[0;34m(\u001b[0m\u001b[0msock_info\u001b[0m\u001b[0;34m,\u001b[0m \u001b[0mBatchedSerializer\u001b[0m\u001b[0;34m(\u001b[0m\u001b[0mPickleSerializer\u001b[0m\u001b[0;34m(\u001b[0m\u001b[0;34m)\u001b[0m\u001b[0;34m)\u001b[0m\u001b[0;34m)\u001b[0m\u001b[0;34m)\u001b[0m\u001b[0;34m\u001b[0m\u001b[0;34m\u001b[0m\u001b[0m\n\u001b[1;32m    679\u001b[0m \u001b[0;34m\u001b[0m\u001b[0m\n",
      "\u001b[0;32m/usr/local/spark-3.1.1-bin-hadoop2.7/python/lib/py4j-0.10.9-src.zip/py4j/java_gateway.py\u001b[0m in \u001b[0;36m__call__\u001b[0;34m(self, *args)\u001b[0m\n\u001b[1;32m   1303\u001b[0m         \u001b[0manswer\u001b[0m \u001b[0;34m=\u001b[0m \u001b[0mself\u001b[0m\u001b[0;34m.\u001b[0m\u001b[0mgateway_client\u001b[0m\u001b[0;34m.\u001b[0m\u001b[0msend_command\u001b[0m\u001b[0;34m(\u001b[0m\u001b[0mcommand\u001b[0m\u001b[0;34m)\u001b[0m\u001b[0;34m\u001b[0m\u001b[0;34m\u001b[0m\u001b[0m\n\u001b[1;32m   1304\u001b[0m         return_value = get_return_value(\n\u001b[0;32m-> 1305\u001b[0;31m             answer, self.gateway_client, self.target_id, self.name)\n\u001b[0m\u001b[1;32m   1306\u001b[0m \u001b[0;34m\u001b[0m\u001b[0m\n\u001b[1;32m   1307\u001b[0m         \u001b[0;32mfor\u001b[0m \u001b[0mtemp_arg\u001b[0m \u001b[0;32min\u001b[0m \u001b[0mtemp_args\u001b[0m\u001b[0;34m:\u001b[0m\u001b[0;34m\u001b[0m\u001b[0;34m\u001b[0m\u001b[0m\n",
      "\u001b[0;32m/usr/local/spark-3.1.1-bin-hadoop2.7/python/pyspark/sql/utils.py\u001b[0m in \u001b[0;36mdeco\u001b[0;34m(*a, **kw)\u001b[0m\n\u001b[1;32m    109\u001b[0m     \u001b[0;32mdef\u001b[0m \u001b[0mdeco\u001b[0m\u001b[0;34m(\u001b[0m\u001b[0;34m*\u001b[0m\u001b[0ma\u001b[0m\u001b[0;34m,\u001b[0m \u001b[0;34m**\u001b[0m\u001b[0mkw\u001b[0m\u001b[0;34m)\u001b[0m\u001b[0;34m:\u001b[0m\u001b[0;34m\u001b[0m\u001b[0;34m\u001b[0m\u001b[0m\n\u001b[1;32m    110\u001b[0m         \u001b[0;32mtry\u001b[0m\u001b[0;34m:\u001b[0m\u001b[0;34m\u001b[0m\u001b[0;34m\u001b[0m\u001b[0m\n\u001b[0;32m--> 111\u001b[0;31m             \u001b[0;32mreturn\u001b[0m \u001b[0mf\u001b[0m\u001b[0;34m(\u001b[0m\u001b[0;34m*\u001b[0m\u001b[0ma\u001b[0m\u001b[0;34m,\u001b[0m \u001b[0;34m**\u001b[0m\u001b[0mkw\u001b[0m\u001b[0;34m)\u001b[0m\u001b[0;34m\u001b[0m\u001b[0;34m\u001b[0m\u001b[0m\n\u001b[0m\u001b[1;32m    112\u001b[0m         \u001b[0;32mexcept\u001b[0m \u001b[0mpy4j\u001b[0m\u001b[0;34m.\u001b[0m\u001b[0mprotocol\u001b[0m\u001b[0;34m.\u001b[0m\u001b[0mPy4JJavaError\u001b[0m \u001b[0;32mas\u001b[0m \u001b[0me\u001b[0m\u001b[0;34m:\u001b[0m\u001b[0;34m\u001b[0m\u001b[0;34m\u001b[0m\u001b[0m\n\u001b[1;32m    113\u001b[0m             \u001b[0mconverted\u001b[0m \u001b[0;34m=\u001b[0m \u001b[0mconvert_exception\u001b[0m\u001b[0;34m(\u001b[0m\u001b[0me\u001b[0m\u001b[0;34m.\u001b[0m\u001b[0mjava_exception\u001b[0m\u001b[0;34m)\u001b[0m\u001b[0;34m\u001b[0m\u001b[0;34m\u001b[0m\u001b[0m\n",
      "\u001b[0;32m/usr/local/spark-3.1.1-bin-hadoop2.7/python/lib/py4j-0.10.9-src.zip/py4j/protocol.py\u001b[0m in \u001b[0;36mget_return_value\u001b[0;34m(answer, gateway_client, target_id, name)\u001b[0m\n\u001b[1;32m    326\u001b[0m                 raise Py4JJavaError(\n\u001b[1;32m    327\u001b[0m                     \u001b[0;34m\"An error occurred while calling {0}{1}{2}.\\n\"\u001b[0m\u001b[0;34m.\u001b[0m\u001b[0;34m\u001b[0m\u001b[0;34m\u001b[0m\u001b[0m\n\u001b[0;32m--> 328\u001b[0;31m                     format(target_id, \".\", name), value)\n\u001b[0m\u001b[1;32m    329\u001b[0m             \u001b[0;32melse\u001b[0m\u001b[0;34m:\u001b[0m\u001b[0;34m\u001b[0m\u001b[0;34m\u001b[0m\u001b[0m\n\u001b[1;32m    330\u001b[0m                 raise Py4JError(\n",
      "\u001b[0;31mPy4JJavaError\u001b[0m: An error occurred while calling o185.collectToPython.\n: org.apache.spark.SparkException: Job aborted due to stage failure: Task 0 in stage 14.0 failed 1 times, most recent failure: Lost task 0.0 in stage 14.0 (TID 14) (hp-HP-Pavilion-Gaming-Laptop-15-dk0xxx executor driver): java.lang.ClassCastException: java.lang.Integer cannot be cast to org.apache.spark.sql.catalyst.util.GenericArrayData\n\tat org.apache.spark.sql.sedona_sql.expressions.raster.RS_Base64.eval(IO.scala:175)\n\tat org.apache.spark.sql.sedona_sql.expressions.raster.RS_HTML.eval(IO.scala:242)\n\tat org.apache.spark.sql.catalyst.expressions.GeneratedClass$SpecificUnsafeProjection.apply(Unknown Source)\n\tat org.apache.spark.sql.catalyst.expressions.GeneratedClass$SpecificUnsafeProjection.apply(Unknown Source)\n\tat scala.collection.Iterator$$anon$10.next(Iterator.scala:459)\n\tat org.apache.spark.sql.execution.SparkPlan.$anonfun$getByteArrayRdd$1(SparkPlan.scala:346)\n\tat org.apache.spark.rdd.RDD.$anonfun$mapPartitionsInternal$2(RDD.scala:898)\n\tat org.apache.spark.rdd.RDD.$anonfun$mapPartitionsInternal$2$adapted(RDD.scala:898)\n\tat org.apache.spark.rdd.MapPartitionsRDD.compute(MapPartitionsRDD.scala:52)\n\tat org.apache.spark.rdd.RDD.computeOrReadCheckpoint(RDD.scala:373)\n\tat org.apache.spark.rdd.RDD.iterator(RDD.scala:337)\n\tat org.apache.spark.scheduler.ResultTask.runTask(ResultTask.scala:90)\n\tat org.apache.spark.scheduler.Task.run(Task.scala:131)\n\tat org.apache.spark.executor.Executor$TaskRunner.$anonfun$run$3(Executor.scala:497)\n\tat org.apache.spark.util.Utils$.tryWithSafeFinally(Utils.scala:1439)\n\tat org.apache.spark.executor.Executor$TaskRunner.run(Executor.scala:500)\n\tat java.util.concurrent.ThreadPoolExecutor.runWorker(ThreadPoolExecutor.java:1149)\n\tat java.util.concurrent.ThreadPoolExecutor$Worker.run(ThreadPoolExecutor.java:624)\n\tat java.lang.Thread.run(Thread.java:748)\n\nDriver stacktrace:\n\tat org.apache.spark.scheduler.DAGScheduler.failJobAndIndependentStages(DAGScheduler.scala:2253)\n\tat org.apache.spark.scheduler.DAGScheduler.$anonfun$abortStage$2(DAGScheduler.scala:2202)\n\tat org.apache.spark.scheduler.DAGScheduler.$anonfun$abortStage$2$adapted(DAGScheduler.scala:2201)\n\tat scala.collection.mutable.ResizableArray.foreach(ResizableArray.scala:62)\n\tat scala.collection.mutable.ResizableArray.foreach$(ResizableArray.scala:55)\n\tat scala.collection.mutable.ArrayBuffer.foreach(ArrayBuffer.scala:49)\n\tat org.apache.spark.scheduler.DAGScheduler.abortStage(DAGScheduler.scala:2201)\n\tat org.apache.spark.scheduler.DAGScheduler.$anonfun$handleTaskSetFailed$1(DAGScheduler.scala:1078)\n\tat org.apache.spark.scheduler.DAGScheduler.$anonfun$handleTaskSetFailed$1$adapted(DAGScheduler.scala:1078)\n\tat scala.Option.foreach(Option.scala:407)\n\tat org.apache.spark.scheduler.DAGScheduler.handleTaskSetFailed(DAGScheduler.scala:1078)\n\tat org.apache.spark.scheduler.DAGSchedulerEventProcessLoop.doOnReceive(DAGScheduler.scala:2440)\n\tat org.apache.spark.scheduler.DAGSchedulerEventProcessLoop.onReceive(DAGScheduler.scala:2382)\n\tat org.apache.spark.scheduler.DAGSchedulerEventProcessLoop.onReceive(DAGScheduler.scala:2371)\n\tat org.apache.spark.util.EventLoop$$anon$1.run(EventLoop.scala:49)\n\tat org.apache.spark.scheduler.DAGScheduler.runJob(DAGScheduler.scala:868)\n\tat org.apache.spark.SparkContext.runJob(SparkContext.scala:2202)\n\tat org.apache.spark.SparkContext.runJob(SparkContext.scala:2223)\n\tat org.apache.spark.SparkContext.runJob(SparkContext.scala:2242)\n\tat org.apache.spark.sql.execution.SparkPlan.executeTake(SparkPlan.scala:472)\n\tat org.apache.spark.sql.execution.SparkPlan.executeTake(SparkPlan.scala:425)\n\tat org.apache.spark.sql.execution.CollectLimitExec.executeCollect(limit.scala:47)\n\tat org.apache.spark.sql.Dataset.$anonfun$collectToPython$1(Dataset.scala:3519)\n\tat org.apache.spark.sql.Dataset.$anonfun$withAction$1(Dataset.scala:3687)\n\tat org.apache.spark.sql.execution.SQLExecution$.$anonfun$withNewExecutionId$5(SQLExecution.scala:103)\n\tat org.apache.spark.sql.execution.SQLExecution$.withSQLConfPropagated(SQLExecution.scala:163)\n\tat org.apache.spark.sql.execution.SQLExecution$.$anonfun$withNewExecutionId$1(SQLExecution.scala:90)\n\tat org.apache.spark.sql.SparkSession.withActive(SparkSession.scala:772)\n\tat org.apache.spark.sql.execution.SQLExecution$.withNewExecutionId(SQLExecution.scala:64)\n\tat org.apache.spark.sql.Dataset.withAction(Dataset.scala:3685)\n\tat org.apache.spark.sql.Dataset.collectToPython(Dataset.scala:3516)\n\tat sun.reflect.NativeMethodAccessorImpl.invoke0(Native Method)\n\tat sun.reflect.NativeMethodAccessorImpl.invoke(NativeMethodAccessorImpl.java:62)\n\tat sun.reflect.DelegatingMethodAccessorImpl.invoke(DelegatingMethodAccessorImpl.java:43)\n\tat java.lang.reflect.Method.invoke(Method.java:498)\n\tat py4j.reflection.MethodInvoker.invoke(MethodInvoker.java:244)\n\tat py4j.reflection.ReflectionEngine.invoke(ReflectionEngine.java:357)\n\tat py4j.Gateway.invoke(Gateway.java:282)\n\tat py4j.commands.AbstractCommand.invokeMethod(AbstractCommand.java:132)\n\tat py4j.commands.CallCommand.execute(CallCommand.java:79)\n\tat py4j.GatewayConnection.run(GatewayConnection.java:238)\n\tat java.lang.Thread.run(Thread.java:748)\nCaused by: java.lang.ClassCastException: java.lang.Integer cannot be cast to org.apache.spark.sql.catalyst.util.GenericArrayData\n\tat org.apache.spark.sql.sedona_sql.expressions.raster.RS_Base64.eval(IO.scala:175)\n\tat org.apache.spark.sql.sedona_sql.expressions.raster.RS_HTML.eval(IO.scala:242)\n\tat org.apache.spark.sql.catalyst.expressions.GeneratedClass$SpecificUnsafeProjection.apply(Unknown Source)\n\tat org.apache.spark.sql.catalyst.expressions.GeneratedClass$SpecificUnsafeProjection.apply(Unknown Source)\n\tat scala.collection.Iterator$$anon$10.next(Iterator.scala:459)\n\tat org.apache.spark.sql.execution.SparkPlan.$anonfun$getByteArrayRdd$1(SparkPlan.scala:346)\n\tat org.apache.spark.rdd.RDD.$anonfun$mapPartitionsInternal$2(RDD.scala:898)\n\tat org.apache.spark.rdd.RDD.$anonfun$mapPartitionsInternal$2$adapted(RDD.scala:898)\n\tat org.apache.spark.rdd.MapPartitionsRDD.compute(MapPartitionsRDD.scala:52)\n\tat org.apache.spark.rdd.RDD.computeOrReadCheckpoint(RDD.scala:373)\n\tat org.apache.spark.rdd.RDD.iterator(RDD.scala:337)\n\tat org.apache.spark.scheduler.ResultTask.runTask(ResultTask.scala:90)\n\tat org.apache.spark.scheduler.Task.run(Task.scala:131)\n\tat org.apache.spark.executor.Executor$TaskRunner.$anonfun$run$3(Executor.scala:497)\n\tat org.apache.spark.util.Utils$.tryWithSafeFinally(Utils.scala:1439)\n\tat org.apache.spark.executor.Executor$TaskRunner.run(Executor.scala:500)\n\tat java.util.concurrent.ThreadPoolExecutor.runWorker(ThreadPoolExecutor.java:1149)\n\tat java.util.concurrent.ThreadPoolExecutor$Worker.run(ThreadPoolExecutor.java:624)\n\t... 1 more\n"
     ]
    }
   ],
   "source": [
    "\n",
    "df_base64 = df.selectExpr(\"Geom\", \"RS_Base64(height,width,RS_Normalize(targetband), RS_Array(height*width,0), RS_Array(height*width, 0), RS_MaskValues(targetband, width, height)\"\"))\n",
    "df_HTML = df_base64.selectExpr(\"Geom\",\"RS_HTML(region) as selectedregion\")\n",
    "display(HTML(df_HTML.limit(2).toPandas().to_html(escape=False)))\n"
   ]
  },
  {
   "cell_type": "code",
   "execution_count": 13,
   "metadata": {},
   "outputs": [
    {
     "data": {
      "text/plain": [
       "DataFrame[targetband: array<double>, height: int, width: int, bands: int, Geom: udt]"
      ]
     },
     "execution_count": 13,
     "metadata": {},
     "output_type": "execute_result"
    }
   ],
   "source": [
    "df"
   ]
  },
  {
   "cell_type": "code",
   "execution_count": 72,
   "metadata": {},
   "outputs": [
    {
     "name": "stdout",
     "output_type": "stream",
     "text": [
      "+----------------------------------------------------------------------------------------------------------------------------------------------------------------------------------------------------------------+-------------------------------------------------------------------------------------------------------------------------------------------------------------------------------------------------------------------------------------------------------------------------------------------------------------------------------------------------------------------------------------------------------------------------------------------------------------------------------------------------------------------------------------------------------------------------------------------------------------------------------------------------------------------------------------------------------------------------------------------------------------------------------------------------------------------------------------------------------------------------------------------------------------------------------------------------------------------------------------------------------------------------------------------------------------------------------------------------------------------------------------------------------------------------------------------------------------------------------------------------------------------------------------------------------------------------------------------------------------------------------------------------------------------------------------------------------------------------------------------------------------------------------------------------------------------------------------------------------------------------------------------------------------------------------------------------------------------------------------------------------------------------------------------------------------------------------------------------------------------------------------------------------------------------------+\n",
      "|Geom                                                                                                                                                                                                            |selectedregion                                                                                                                                                                                                                                                                                                                                                                                                                                                                                                                                                                                                                                                                                                                                                                                                                                                                                                                                                                                                                                                                                                                                                                                                                                                                                                                                                                                                                                                                                                                                                                                                                                                                                                                                                                                                                                                                                                                 |\n",
      "+----------------------------------------------------------------------------------------------------------------------------------------------------------------------------------------------------------------+-------------------------------------------------------------------------------------------------------------------------------------------------------------------------------------------------------------------------------------------------------------------------------------------------------------------------------------------------------------------------------------------------------------------------------------------------------------------------------------------------------------------------------------------------------------------------------------------------------------------------------------------------------------------------------------------------------------------------------------------------------------------------------------------------------------------------------------------------------------------------------------------------------------------------------------------------------------------------------------------------------------------------------------------------------------------------------------------------------------------------------------------------------------------------------------------------------------------------------------------------------------------------------------------------------------------------------------------------------------------------------------------------------------------------------------------------------------------------------------------------------------------------------------------------------------------------------------------------------------------------------------------------------------------------------------------------------------------------------------------------------------------------------------------------------------------------------------------------------------------------------------------------------------------------------+\n",
      "|POLYGON ((-58.702719395044475 -34.418775445554786, -58.70277605822864 -34.421569880680615, -58.6994039180242 -34.42161679331493, -58.69934736692278 -34.4188223533111, -58.702719395044475 -34.418775445554786))|<img src=\"data:image/png;base64,iVBORw0KGgoAAAANSUhEUgAAACAAAAAgCAYAAABzenr0AAAFE0lEQVR42l2X2W4jRRSG/ZpA4n1tu9ud9j527Dh2JnEmmWwMGWaJSMIQQGJGGolN4oJF3IEQiBfgCZC4QggJqlrfsX7Nxe/qLled5T9LVWfiTCbTdmg6lB0CxhrPdYcSa3oOS4eHDhcOxw4Nh5cOfzh85tBhzyZyPAoOVcYCsv18xSHTdRgh3G/eFsUT/s9jwH3WvnZ46vCRwxA8cbhyWCF4A8M9sqCArALz3vjUk4EoDTFkC4Qs9M8zh32HqcOY512UvnL4x+FX1udAFjbyvOeZyxkDc+j3gu4c9lA2FCPuMY5ZZyHz7Bw4vOvwvcNfjAGM7kO3ebyBchu9Man3bcavEei9PkGIX/gBSqYYtiAc54zeiUMM9V5FGHrB+oZ4vokBZeSlXvWJvU+wBM9WjN6ofx2+QNhElL4mESPWNvE05L1LOI2xIgZ2MdbLS+lqwsAABafQ57362eEnlC4w9BIPh3h5x/oeBsQoriJ7Ju/m3Az56YImViZ4dIOypeTCAaOn8xH0jxFyLsZVQcRajwcYPMdzv/8TxjRJmghPeLZK6PB/BYu9gBa4T548wPMRc4cgJO51nDqQPLnAaM9cmgx1LA5EQYDyUMrTyrVIUt4ifALt58w9Za6BEzPybARLA+Z930i9rhG7PJssee6wPIHWREI2J1SvCFUbzw5hwtN7JPGvifd7rPdOp4otbtZwrO1eY7W11xgP9hD02OEblI4pqyXx9ob95vAp74c4c0vY2tYJc1IeQ/G2gdI51DaZD9nsaf7R4Sty4ZiwrGDA//85e/sw4tk4472C/PSniOKX0FTF66korPDekRB8KSwdU4p2tmxB8Zg9BXLrHmU84r/1QeSV/8KzVcGcZ2PoAu96CFuBHQ6jHUnkRCqnT7KH7L2BrbQPhDx8xzEbSBVohURstowey2k5xJFEDq+EfAnxvoLnl+hbwOy6vI5Ikkg2WBluoaglibhkzlpvwNySELUI5UhO11tywdq0l7XugBazEsqt7HrSUusoP4XaWHq7r4yPHV4gK4AJn6Dvw9wpnhs7M0vCHWi0JhFJCBpiUJmSuoL+EGGPoPYEQyKM6LP+BiP7kid2n1g3n0RuN5YDWcIQYUSDjX9Ty1tywPSokgja+8yHVMgTkvgM1qc4kXmLiTM21vG0RPY3UJIVA35AwJ6cJTFUx1TGAgMWeHpNDpzjZExJpo3IK3hOEubeoL4oFwlbW5OcaBGC5+KAV/i7nILWIQ9gwc6JpR1GeSjcRWlZbrFFxg1QlT5gjcW35GfIaaHwW4cPOU8ewoY/gv+kTY8xOLXYNi55z8pttohSC0kR+nbw6ATDY2k2NXLgBTepO5Lb95r/SHZL4jT5LAFDvHwHvI1xJWGqJJfYbRiwlt1kzu4UVzBhDc6X7ntyt+xZH2hBvR5MZbm9ZiX2m/zfhsKu3IInci1rUyWXco+YC2Mju5TaF4pRXEdILMrzrOlIOEK83WV+yDmxL8e6GTqUe+dULibbGaHXvLZOZadkXjreEI9r0m5HhGFCie1LF2xg4DX/d2Tt1MqwKorsrl6Q94CzPQB2NFekOQ3EkIQ1MSwtMWBFYg4kCdMcaMBCTrK4KBVQk/OgIN97ZRgwugdvtO9ITtOE/7sYZ9+g6XeBNZucKKhIAlZ5D1hTR4h95RalISmTWSnnqlzv7SJyRCmvFefEGHvfkK9Z+2RvyHXNWnZBwpalhK1xbWLAGMP7nILPqIj/AbbU4DEFY9uOAAAAAElFTkSuQmCC\" width=\"200\"/>|\n",
      "|POLYGON ((-58.28663657626114 -34.758580906202866, -58.28667994174946 -34.76137571668496, -58.28329340123002 -34.76141146033393, -58.28325014980316 -34.75861664615162, -58.28663657626114 -34.758580906202866)) |<img src=\"data:image/png;base64,iVBORw0KGgoAAAANSUhEUgAAACAAAAAgCAYAAABzenr0AAAE8klEQVR42l2XyW7kVBSG6x1p0qnBVbbLLpdrsGuekuokXUm6myahCYOatLoBCSF2SIgtLHgL9ogNO14A7rW+E/3K4pTte8/wn/HeqsW1Wi1yVDhaOUocPXU0cFQ66jjyPE1Hx45ajkJHbd6H7B+xH7MWIvMUaqLr4OgvR3eOcke1FAApIHIUd1iLRYk30MB4KDwTR314vWxPHPEyAQACbLxGplvjZ+ZohNc51Bbywh85eoKnBsgbmjq6cXQLmDp7gUQh4tt7/wfee96xB7AEQAKYGAAp6BPejwTAMYB8BJ45OsGzAJ5jQLThNxD3jn4FgHf4WlMwIHxtAMzI5Zy9juwH8gzlOUO2CTUepXNEqlbo9VGrQtbASA9FOZHZ8X5AMIJarPd5t7o4Q+aISAYYD4hKHZkRqfu0BoOFtSMFk0hxfQvqEWnq4VEKAOuOlM7pSQrr7D0R4D73547WNQl/iLESIyEgvNEFYIYoCVB0jqEAHa8cvWd9iO5YUtSWZ8SzMrbGQIxRM57jTQC1JP8Lisna1KfsN4psipdeNiOyXeT7rHcAUYXbiiOV8OUIt/nuyKCJUbgEfAvAF3wPpKYSSasV4JC6KSwFuSi2Ck0lhF3eOxKRa1owleJMUDokoiWdcUDHGFvP2fOOP+R8CvNMis0UN8X4nOr93dEbPJ0gU7K2h9cG2QS+DPnP+PaAqyEyQzjDAxujDZ51IjEhxF9RbL7tNsjG7J2ipymGPeAXfL909AmAqxQcCFkmLRbxjMn7x9LDA6mPMc8Q3hDQPXh/dHRJd9zTHRuiUPJeodHZPyBHY75jjNdJw5CIWbR2UtUN1nc4seK9JAJ7CrUEYAVgTzXbNNs6+gDylnRCA6UmHFCE3xPFBJ41smMA2gheCtmY93VX5ewET60jbsnxRMKewWPfffJ5D+2lmDcASKRwt3Lcl+x7/ZV3XRkaSzx7TfgyGM9YK6UlbaYfGExneNd+1FU9DE9Yz7GZ1mRWbzAWya1mDl1SyXec/S9QYkBmrF/AH0rYZ6Rriv4+z9IiYFNsKwfOCBCZhDWRHGZSxXaCDlGey1BaE0Wfsrcy7sfSEQ8zOZaTaojhXA6OFsoMoK+THwAdwV/QQXvp8wUgT9C9xXhmRVgnF1YHKzlALAo2GecyjP7k4NmyZm35llT0kLPRbXrOKd4AfVX4IrxeMEq3AOsCyObChlrw3z87uiIqc3gbeDUFxBcU9DfwpUTUusLbq4RSWukfR//hWSHVe8M0s1uSpWnJfiFXcePZAOAVxVsAbMn7QxtGVPl3jv519LejX8ijVexzAJqw9bF5dIFHdo/IAGQ1syJtXv5LRz9xmlY3ohmMU5Du5NgcMqhGGDmVC4XdEULG+Va6xw6dE/ScSsc8I6JbAFUApnI8zgBgf1YWKF4ziK7Itx2tmRiwsFp+5zIP7F9XIhdc78CD4BhvPpCOifx5sP6/o6ByAZzRklesTWVaDkSP3bqumZg29KqPEmVNiuYdoSrxfM37gSlYPIqCB/W1hH8lZ8cbQIXsXZIem5iV0rnMgozwjaW3A9rS/r7ZMV3Q1zvy3Zfr/EBOzAP8Ngc+h6f6c3oDw0QOiy5G7F5vANpya7Y0XNExBY7Y+kL+hGzQbYNsQUp97VT3s5dsdORP5y3oA7nV2nTsydG9xvs5BVw8ulUb4D3pXeGkjej/AdyqufhyPwxwAAAAAElFTkSuQmCC\" width=\"200\"/>                                            |\n",
      "+----------------------------------------------------------------------------------------------------------------------------------------------------------------------------------------------------------------+-------------------------------------------------------------------------------------------------------------------------------------------------------------------------------------------------------------------------------------------------------------------------------------------------------------------------------------------------------------------------------------------------------------------------------------------------------------------------------------------------------------------------------------------------------------------------------------------------------------------------------------------------------------------------------------------------------------------------------------------------------------------------------------------------------------------------------------------------------------------------------------------------------------------------------------------------------------------------------------------------------------------------------------------------------------------------------------------------------------------------------------------------------------------------------------------------------------------------------------------------------------------------------------------------------------------------------------------------------------------------------------------------------------------------------------------------------------------------------------------------------------------------------------------------------------------------------------------------------------------------------------------------------------------------------------------------------------------------------------------------------------------------------------------------------------------------------------------------------------------------------------------------------------------------------+\n",
      "\n"
     ]
    }
   ],
   "source": []
  },
  {
   "cell_type": "code",
   "execution_count": 61,
   "metadata": {},
   "outputs": [
    {
     "name": "stdout",
     "output_type": "stream",
     "text": [
      "+--------------------+------+-----+-----+--------------------+\n",
      "|          targetband|height|width|bands|                Geom|\n",
      "+--------------------+------+-----+-----+--------------------+\n",
      "|[1081.0, 1068.0, ...|    32|   32|    4|POLYGON ((-58.702...|\n",
      "|[1151.0, 1141.0, ...|    32|   32|    4|POLYGON ((-58.286...|\n",
      "+--------------------+------+-----+-----+--------------------+\n",
      "\n"
     ]
    }
   ],
   "source": [
    "df.show()"
   ]
  },
  {
   "cell_type": "code",
   "execution_count": null,
   "metadata": {},
   "outputs": [],
   "source": []
  }
 ],
 "metadata": {
  "kernelspec": {
   "display_name": "apache-sedona",
   "language": "python",
   "name": "apache-sedona"
  },
  "language_info": {
   "codemirror_mode": {
    "name": "ipython",
    "version": 3
   },
   "file_extension": ".py",
   "mimetype": "text/x-python",
   "name": "python",
   "nbconvert_exporter": "python",
   "pygments_lexer": "ipython3",
   "version": "3.7.5"
  }
 },
 "nbformat": 4,
 "nbformat_minor": 2
}
